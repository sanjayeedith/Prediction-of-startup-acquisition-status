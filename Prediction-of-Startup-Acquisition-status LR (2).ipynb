{
 "cells": [
  {
   "cell_type": "code",
   "execution_count": 1,
   "metadata": {},
   "outputs": [],
   "source": [
    "import numpy as np\n",
    "import pandas as pd\n",
    "import matplotlib.pyplot as plt\n",
    "%matplotlib inline\n",
    "import seaborn as sns\n",
    "from sklearn.preprocessing import OneHotEncoder\n",
    "from sklearn.impute import SimpleImputer\n",
    "from sklearn.base import BaseEstimator, TransformerMixin\n",
    "from sklearn.model_selection import train_test_split"
   ]
  },
  {
   "cell_type": "code",
   "execution_count": 2,
   "metadata": {},
   "outputs": [],
   "source": [
    "data=pd.read_csv('C:\\\\Users\\\\msona\\\\OneDrive\\\\Desktop\\\\companies\\\\companies.csv')"
   ]
  },
  {
   "cell_type": "code",
   "execution_count": 4,
   "metadata": {},
   "outputs": [
    {
     "data": {
      "text/html": [
       "<div>\n",
       "<style scoped>\n",
       "    .dataframe tbody tr th:only-of-type {\n",
       "        vertical-align: middle;\n",
       "    }\n",
       "\n",
       "    .dataframe tbody tr th {\n",
       "        vertical-align: top;\n",
       "    }\n",
       "\n",
       "    .dataframe thead th {\n",
       "        text-align: right;\n",
       "    }\n",
       "</style>\n",
       "<table border=\"1\" class=\"dataframe\">\n",
       "  <thead>\n",
       "    <tr style=\"text-align: right;\">\n",
       "      <th></th>\n",
       "      <th>id</th>\n",
       "      <th>Unnamed: 0.1</th>\n",
       "      <th>entity_type</th>\n",
       "      <th>entity_id</th>\n",
       "      <th>parent_id</th>\n",
       "      <th>name</th>\n",
       "      <th>normalized_name</th>\n",
       "      <th>permalink</th>\n",
       "      <th>category_code</th>\n",
       "      <th>status</th>\n",
       "      <th>...</th>\n",
       "      <th>first_milestone_at</th>\n",
       "      <th>last_milestone_at</th>\n",
       "      <th>milestones</th>\n",
       "      <th>relationships</th>\n",
       "      <th>created_by</th>\n",
       "      <th>created_at</th>\n",
       "      <th>updated_at</th>\n",
       "      <th>lat</th>\n",
       "      <th>lng</th>\n",
       "      <th>ROI</th>\n",
       "    </tr>\n",
       "  </thead>\n",
       "  <tbody>\n",
       "    <tr>\n",
       "      <th>0</th>\n",
       "      <td>c:1</td>\n",
       "      <td>0</td>\n",
       "      <td>Company</td>\n",
       "      <td>1</td>\n",
       "      <td>NaN</td>\n",
       "      <td>Wetpaint</td>\n",
       "      <td>wetpaint</td>\n",
       "      <td>/company/wetpaint</td>\n",
       "      <td>web</td>\n",
       "      <td>operating</td>\n",
       "      <td>...</td>\n",
       "      <td>2010-09-05</td>\n",
       "      <td>2013-09-18</td>\n",
       "      <td>5.0</td>\n",
       "      <td>17.0</td>\n",
       "      <td>initial-importer</td>\n",
       "      <td>2007-05-25 06:51:27</td>\n",
       "      <td>2013-04-13 03:29:00</td>\n",
       "      <td>47.606209</td>\n",
       "      <td>-122.332071</td>\n",
       "      <td>15.5</td>\n",
       "    </tr>\n",
       "    <tr>\n",
       "      <th>1</th>\n",
       "      <td>c:10</td>\n",
       "      <td>1</td>\n",
       "      <td>Company</td>\n",
       "      <td>10</td>\n",
       "      <td>NaN</td>\n",
       "      <td>Flektor</td>\n",
       "      <td>flektor</td>\n",
       "      <td>/company/flektor</td>\n",
       "      <td>games_video</td>\n",
       "      <td>acquired</td>\n",
       "      <td>...</td>\n",
       "      <td>NaN</td>\n",
       "      <td>NaN</td>\n",
       "      <td>NaN</td>\n",
       "      <td>6.0</td>\n",
       "      <td>initial-importer</td>\n",
       "      <td>2007-05-31 21:11:51</td>\n",
       "      <td>2008-05-23 23:23:14</td>\n",
       "      <td>34.021122</td>\n",
       "      <td>-118.396467</td>\n",
       "      <td>NaN</td>\n",
       "    </tr>\n",
       "    <tr>\n",
       "      <th>2</th>\n",
       "      <td>c:100</td>\n",
       "      <td>2</td>\n",
       "      <td>Company</td>\n",
       "      <td>100</td>\n",
       "      <td>NaN</td>\n",
       "      <td>There</td>\n",
       "      <td>there</td>\n",
       "      <td>/company/there</td>\n",
       "      <td>games_video</td>\n",
       "      <td>acquired</td>\n",
       "      <td>...</td>\n",
       "      <td>2003-02-01</td>\n",
       "      <td>2011-09-23</td>\n",
       "      <td>4.0</td>\n",
       "      <td>12.0</td>\n",
       "      <td>initial-importer</td>\n",
       "      <td>2007-08-06 23:52:45</td>\n",
       "      <td>2013-11-04 02:09:48</td>\n",
       "      <td>37.562992</td>\n",
       "      <td>-122.325525</td>\n",
       "      <td>NaN</td>\n",
       "    </tr>\n",
       "    <tr>\n",
       "      <th>3</th>\n",
       "      <td>c:10000</td>\n",
       "      <td>3</td>\n",
       "      <td>Company</td>\n",
       "      <td>10000</td>\n",
       "      <td>NaN</td>\n",
       "      <td>MYWEBBO</td>\n",
       "      <td>mywebbo</td>\n",
       "      <td>/company/mywebbo</td>\n",
       "      <td>network_hosting</td>\n",
       "      <td>operating</td>\n",
       "      <td>...</td>\n",
       "      <td>NaN</td>\n",
       "      <td>NaN</td>\n",
       "      <td>NaN</td>\n",
       "      <td>NaN</td>\n",
       "      <td>NaN</td>\n",
       "      <td>2008-08-24 16:51:57</td>\n",
       "      <td>2008-09-06 14:19:18</td>\n",
       "      <td>NaN</td>\n",
       "      <td>NaN</td>\n",
       "      <td>NaN</td>\n",
       "    </tr>\n",
       "    <tr>\n",
       "      <th>4</th>\n",
       "      <td>c:10001</td>\n",
       "      <td>4</td>\n",
       "      <td>Company</td>\n",
       "      <td>10001</td>\n",
       "      <td>NaN</td>\n",
       "      <td>THE Movie Streamer</td>\n",
       "      <td>the movie streamer</td>\n",
       "      <td>/company/the-movie-streamer</td>\n",
       "      <td>games_video</td>\n",
       "      <td>operating</td>\n",
       "      <td>...</td>\n",
       "      <td>NaN</td>\n",
       "      <td>NaN</td>\n",
       "      <td>NaN</td>\n",
       "      <td>NaN</td>\n",
       "      <td>NaN</td>\n",
       "      <td>2008-08-24 17:10:34</td>\n",
       "      <td>2008-09-06 14:19:18</td>\n",
       "      <td>NaN</td>\n",
       "      <td>NaN</td>\n",
       "      <td>NaN</td>\n",
       "    </tr>\n",
       "  </tbody>\n",
       "</table>\n",
       "<p>5 rows × 44 columns</p>\n",
       "</div>"
      ],
      "text/plain": [
       "        id  Unnamed: 0.1 entity_type  entity_id  parent_id  \\\n",
       "0      c:1             0     Company          1        NaN   \n",
       "1     c:10             1     Company         10        NaN   \n",
       "2    c:100             2     Company        100        NaN   \n",
       "3  c:10000             3     Company      10000        NaN   \n",
       "4  c:10001             4     Company      10001        NaN   \n",
       "\n",
       "                 name     normalized_name                    permalink  \\\n",
       "0            Wetpaint            wetpaint            /company/wetpaint   \n",
       "1             Flektor             flektor             /company/flektor   \n",
       "2               There               there               /company/there   \n",
       "3             MYWEBBO             mywebbo             /company/mywebbo   \n",
       "4  THE Movie Streamer  the movie streamer  /company/the-movie-streamer   \n",
       "\n",
       "     category_code     status  ... first_milestone_at last_milestone_at  \\\n",
       "0              web  operating  ...         2010-09-05        2013-09-18   \n",
       "1      games_video   acquired  ...                NaN               NaN   \n",
       "2      games_video   acquired  ...         2003-02-01        2011-09-23   \n",
       "3  network_hosting  operating  ...                NaN               NaN   \n",
       "4      games_video  operating  ...                NaN               NaN   \n",
       "\n",
       "  milestones relationships        created_by           created_at  \\\n",
       "0        5.0          17.0  initial-importer  2007-05-25 06:51:27   \n",
       "1        NaN           6.0  initial-importer  2007-05-31 21:11:51   \n",
       "2        4.0          12.0  initial-importer  2007-08-06 23:52:45   \n",
       "3        NaN           NaN               NaN  2008-08-24 16:51:57   \n",
       "4        NaN           NaN               NaN  2008-08-24 17:10:34   \n",
       "\n",
       "            updated_at        lat         lng   ROI  \n",
       "0  2013-04-13 03:29:00  47.606209 -122.332071  15.5  \n",
       "1  2008-05-23 23:23:14  34.021122 -118.396467   NaN  \n",
       "2  2013-11-04 02:09:48  37.562992 -122.325525   NaN  \n",
       "3  2008-09-06 14:19:18        NaN         NaN   NaN  \n",
       "4  2008-09-06 14:19:18        NaN         NaN   NaN  \n",
       "\n",
       "[5 rows x 44 columns]"
      ]
     },
     "execution_count": 4,
     "metadata": {},
     "output_type": "execute_result"
    }
   ],
   "source": [
    "data.head()"
   ]
  },
  {
   "cell_type": "code",
   "execution_count": 5,
   "metadata": {},
   "outputs": [
    {
     "data": {
      "text/plain": [
       "(196553, 44)"
      ]
     },
     "execution_count": 5,
     "metadata": {},
     "output_type": "execute_result"
    }
   ],
   "source": [
    "data.shape"
   ]
  },
  {
   "cell_type": "code",
   "execution_count": 6,
   "metadata": {},
   "outputs": [
    {
     "data": {
      "text/html": [
       "<div>\n",
       "<style scoped>\n",
       "    .dataframe tbody tr th:only-of-type {\n",
       "        vertical-align: middle;\n",
       "    }\n",
       "\n",
       "    .dataframe tbody tr th {\n",
       "        vertical-align: top;\n",
       "    }\n",
       "\n",
       "    .dataframe thead th {\n",
       "        text-align: right;\n",
       "    }\n",
       "</style>\n",
       "<table border=\"1\" class=\"dataframe\">\n",
       "  <thead>\n",
       "    <tr style=\"text-align: right;\">\n",
       "      <th></th>\n",
       "      <th>id</th>\n",
       "      <th>Unnamed: 0.1</th>\n",
       "      <th>entity_type</th>\n",
       "      <th>entity_id</th>\n",
       "      <th>parent_id</th>\n",
       "      <th>name</th>\n",
       "      <th>normalized_name</th>\n",
       "      <th>permalink</th>\n",
       "      <th>category_code</th>\n",
       "      <th>status</th>\n",
       "      <th>...</th>\n",
       "      <th>first_milestone_at</th>\n",
       "      <th>last_milestone_at</th>\n",
       "      <th>milestones</th>\n",
       "      <th>relationships</th>\n",
       "      <th>created_by</th>\n",
       "      <th>created_at</th>\n",
       "      <th>updated_at</th>\n",
       "      <th>lat</th>\n",
       "      <th>lng</th>\n",
       "      <th>ROI</th>\n",
       "    </tr>\n",
       "  </thead>\n",
       "  <tbody>\n",
       "    <tr>\n",
       "      <th>196548</th>\n",
       "      <td>c:99940</td>\n",
       "      <td>196548</td>\n",
       "      <td>Company</td>\n",
       "      <td>99940</td>\n",
       "      <td>NaN</td>\n",
       "      <td>Webgility</td>\n",
       "      <td>webgility</td>\n",
       "      <td>/company/webgility</td>\n",
       "      <td>ecommerce</td>\n",
       "      <td>operating</td>\n",
       "      <td>...</td>\n",
       "      <td>2013-08-12</td>\n",
       "      <td>2013-08-12</td>\n",
       "      <td>2.0</td>\n",
       "      <td>5.0</td>\n",
       "      <td>NaN</td>\n",
       "      <td>2011-09-06 23:17:56</td>\n",
       "      <td>2013-08-13 00:39:13</td>\n",
       "      <td>37.774929</td>\n",
       "      <td>-122.419415</td>\n",
       "      <td>NaN</td>\n",
       "    </tr>\n",
       "    <tr>\n",
       "      <th>196549</th>\n",
       "      <td>c:9995</td>\n",
       "      <td>196549</td>\n",
       "      <td>Company</td>\n",
       "      <td>9995</td>\n",
       "      <td>NaN</td>\n",
       "      <td>FohBoh</td>\n",
       "      <td>fohboh</td>\n",
       "      <td>/company/fohboh</td>\n",
       "      <td>public_relations</td>\n",
       "      <td>operating</td>\n",
       "      <td>...</td>\n",
       "      <td>2013-05-01</td>\n",
       "      <td>2013-05-01</td>\n",
       "      <td>1.0</td>\n",
       "      <td>14.0</td>\n",
       "      <td>NaN</td>\n",
       "      <td>2008-08-24 15:46:26</td>\n",
       "      <td>2013-06-28 20:55:30</td>\n",
       "      <td>37.338208</td>\n",
       "      <td>-121.886329</td>\n",
       "      <td>NaN</td>\n",
       "    </tr>\n",
       "    <tr>\n",
       "      <th>196550</th>\n",
       "      <td>c:9996</td>\n",
       "      <td>196550</td>\n",
       "      <td>Company</td>\n",
       "      <td>9996</td>\n",
       "      <td>NaN</td>\n",
       "      <td>CSC</td>\n",
       "      <td>csc</td>\n",
       "      <td>/company/csc</td>\n",
       "      <td>consulting</td>\n",
       "      <td>operating</td>\n",
       "      <td>...</td>\n",
       "      <td>2012-01-01</td>\n",
       "      <td>2013-10-30</td>\n",
       "      <td>3.0</td>\n",
       "      <td>44.0</td>\n",
       "      <td>NaN</td>\n",
       "      <td>2008-08-24 15:46:58</td>\n",
       "      <td>2013-06-28 20:52:01</td>\n",
       "      <td>38.882334</td>\n",
       "      <td>-77.171091</td>\n",
       "      <td>NaN</td>\n",
       "    </tr>\n",
       "    <tr>\n",
       "      <th>196551</th>\n",
       "      <td>c:9997</td>\n",
       "      <td>196551</td>\n",
       "      <td>Company</td>\n",
       "      <td>9997</td>\n",
       "      <td>NaN</td>\n",
       "      <td>Top-candidate</td>\n",
       "      <td>top candidate</td>\n",
       "      <td>/company/top-candidate</td>\n",
       "      <td>search</td>\n",
       "      <td>operating</td>\n",
       "      <td>...</td>\n",
       "      <td>NaN</td>\n",
       "      <td>NaN</td>\n",
       "      <td>NaN</td>\n",
       "      <td>1.0</td>\n",
       "      <td>NaN</td>\n",
       "      <td>2008-08-24 16:00:22</td>\n",
       "      <td>2013-06-28 20:56:44</td>\n",
       "      <td>34.052234</td>\n",
       "      <td>-118.243685</td>\n",
       "      <td>NaN</td>\n",
       "    </tr>\n",
       "    <tr>\n",
       "      <th>196552</th>\n",
       "      <td>c:9998</td>\n",
       "      <td>196552</td>\n",
       "      <td>Company</td>\n",
       "      <td>9998</td>\n",
       "      <td>NaN</td>\n",
       "      <td>Closet Couture</td>\n",
       "      <td>closet couture</td>\n",
       "      <td>/company/closet-couture</td>\n",
       "      <td>ecommerce</td>\n",
       "      <td>operating</td>\n",
       "      <td>...</td>\n",
       "      <td>2006-07-01</td>\n",
       "      <td>2008-09-10</td>\n",
       "      <td>2.0</td>\n",
       "      <td>1.0</td>\n",
       "      <td>NaN</td>\n",
       "      <td>2008-08-24 16:46:13</td>\n",
       "      <td>2013-03-23 12:01:50</td>\n",
       "      <td>34.035633</td>\n",
       "      <td>-118.515590</td>\n",
       "      <td>NaN</td>\n",
       "    </tr>\n",
       "  </tbody>\n",
       "</table>\n",
       "<p>5 rows × 44 columns</p>\n",
       "</div>"
      ],
      "text/plain": [
       "             id  Unnamed: 0.1 entity_type  entity_id  parent_id  \\\n",
       "196548  c:99940        196548     Company      99940        NaN   \n",
       "196549   c:9995        196549     Company       9995        NaN   \n",
       "196550   c:9996        196550     Company       9996        NaN   \n",
       "196551   c:9997        196551     Company       9997        NaN   \n",
       "196552   c:9998        196552     Company       9998        NaN   \n",
       "\n",
       "                  name normalized_name                permalink  \\\n",
       "196548       Webgility       webgility       /company/webgility   \n",
       "196549          FohBoh          fohboh          /company/fohboh   \n",
       "196550             CSC             csc             /company/csc   \n",
       "196551   Top-candidate   top candidate   /company/top-candidate   \n",
       "196552  Closet Couture  closet couture  /company/closet-couture   \n",
       "\n",
       "           category_code     status  ... first_milestone_at last_milestone_at  \\\n",
       "196548         ecommerce  operating  ...         2013-08-12        2013-08-12   \n",
       "196549  public_relations  operating  ...         2013-05-01        2013-05-01   \n",
       "196550        consulting  operating  ...         2012-01-01        2013-10-30   \n",
       "196551            search  operating  ...                NaN               NaN   \n",
       "196552         ecommerce  operating  ...         2006-07-01        2008-09-10   \n",
       "\n",
       "       milestones relationships created_by           created_at  \\\n",
       "196548        2.0           5.0        NaN  2011-09-06 23:17:56   \n",
       "196549        1.0          14.0        NaN  2008-08-24 15:46:26   \n",
       "196550        3.0          44.0        NaN  2008-08-24 15:46:58   \n",
       "196551        NaN           1.0        NaN  2008-08-24 16:00:22   \n",
       "196552        2.0           1.0        NaN  2008-08-24 16:46:13   \n",
       "\n",
       "                 updated_at        lat         lng ROI  \n",
       "196548  2013-08-13 00:39:13  37.774929 -122.419415 NaN  \n",
       "196549  2013-06-28 20:55:30  37.338208 -121.886329 NaN  \n",
       "196550  2013-06-28 20:52:01  38.882334  -77.171091 NaN  \n",
       "196551  2013-06-28 20:56:44  34.052234 -118.243685 NaN  \n",
       "196552  2013-03-23 12:01:50  34.035633 -118.515590 NaN  \n",
       "\n",
       "[5 rows x 44 columns]"
      ]
     },
     "execution_count": 6,
     "metadata": {},
     "output_type": "execute_result"
    }
   ],
   "source": [
    "data.tail()"
   ]
  },
  {
   "cell_type": "code",
   "execution_count": 7,
   "metadata": {},
   "outputs": [
    {
     "data": {
      "text/html": [
       "<div>\n",
       "<style scoped>\n",
       "    .dataframe tbody tr th:only-of-type {\n",
       "        vertical-align: middle;\n",
       "    }\n",
       "\n",
       "    .dataframe tbody tr th {\n",
       "        vertical-align: top;\n",
       "    }\n",
       "\n",
       "    .dataframe thead th {\n",
       "        text-align: right;\n",
       "    }\n",
       "</style>\n",
       "<table border=\"1\" class=\"dataframe\">\n",
       "  <thead>\n",
       "    <tr style=\"text-align: right;\">\n",
       "      <th></th>\n",
       "      <th>Unnamed: 0.1</th>\n",
       "      <th>entity_id</th>\n",
       "      <th>parent_id</th>\n",
       "      <th>logo_width</th>\n",
       "      <th>logo_height</th>\n",
       "      <th>investment_rounds</th>\n",
       "      <th>invested_companies</th>\n",
       "      <th>funding_rounds</th>\n",
       "      <th>funding_total_usd</th>\n",
       "      <th>milestones</th>\n",
       "      <th>relationships</th>\n",
       "      <th>lat</th>\n",
       "      <th>lng</th>\n",
       "      <th>ROI</th>\n",
       "    </tr>\n",
       "  </thead>\n",
       "  <tbody>\n",
       "    <tr>\n",
       "      <th>count</th>\n",
       "      <td>196553.000000</td>\n",
       "      <td>196553.000000</td>\n",
       "      <td>0.0</td>\n",
       "      <td>110110.000000</td>\n",
       "      <td>110110.000000</td>\n",
       "      <td>2591.000000</td>\n",
       "      <td>2591.000000</td>\n",
       "      <td>31707.000000</td>\n",
       "      <td>2.787400e+04</td>\n",
       "      <td>91699.000000</td>\n",
       "      <td>129667.000000</td>\n",
       "      <td>83852.000000</td>\n",
       "      <td>83852.000000</td>\n",
       "      <td>726.000000</td>\n",
       "    </tr>\n",
       "    <tr>\n",
       "      <th>mean</th>\n",
       "      <td>98276.000000</td>\n",
       "      <td>153006.227333</td>\n",
       "      <td>NaN</td>\n",
       "      <td>459.132685</td>\n",
       "      <td>222.728917</td>\n",
       "      <td>2.372057</td>\n",
       "      <td>2.204940</td>\n",
       "      <td>1.659760</td>\n",
       "      <td>1.481652e+07</td>\n",
       "      <td>1.199402</td>\n",
       "      <td>2.852067</td>\n",
       "      <td>37.564512</td>\n",
       "      <td>-52.123066</td>\n",
       "      <td>45.745037</td>\n",
       "    </tr>\n",
       "    <tr>\n",
       "      <th>std</th>\n",
       "      <td>56740.108067</td>\n",
       "      <td>90209.250941</td>\n",
       "      <td>NaN</td>\n",
       "      <td>594.982577</td>\n",
       "      <td>333.090722</td>\n",
       "      <td>12.173510</td>\n",
       "      <td>11.436955</td>\n",
       "      <td>1.201666</td>\n",
       "      <td>6.775937e+07</td>\n",
       "      <td>0.540099</td>\n",
       "      <td>9.100309</td>\n",
       "      <td>15.477102</td>\n",
       "      <td>70.049067</td>\n",
       "      <td>572.035638</td>\n",
       "    </tr>\n",
       "    <tr>\n",
       "      <th>min</th>\n",
       "      <td>0.000000</td>\n",
       "      <td>1.000000</td>\n",
       "      <td>NaN</td>\n",
       "      <td>1.000000</td>\n",
       "      <td>1.000000</td>\n",
       "      <td>1.000000</td>\n",
       "      <td>1.000000</td>\n",
       "      <td>1.000000</td>\n",
       "      <td>2.910000e+02</td>\n",
       "      <td>1.000000</td>\n",
       "      <td>1.000000</td>\n",
       "      <td>-50.942326</td>\n",
       "      <td>-159.497746</td>\n",
       "      <td>0.011111</td>\n",
       "    </tr>\n",
       "    <tr>\n",
       "      <th>25%</th>\n",
       "      <td>49138.000000</td>\n",
       "      <td>59850.000000</td>\n",
       "      <td>NaN</td>\n",
       "      <td>192.000000</td>\n",
       "      <td>70.000000</td>\n",
       "      <td>1.000000</td>\n",
       "      <td>1.000000</td>\n",
       "      <td>1.000000</td>\n",
       "      <td>5.000000e+05</td>\n",
       "      <td>1.000000</td>\n",
       "      <td>1.000000</td>\n",
       "      <td>34.052234</td>\n",
       "      <td>-111.940005</td>\n",
       "      <td>2.648879</td>\n",
       "    </tr>\n",
       "    <tr>\n",
       "      <th>50%</th>\n",
       "      <td>98276.000000</td>\n",
       "      <td>174539.000000</td>\n",
       "      <td>NaN</td>\n",
       "      <td>267.000000</td>\n",
       "      <td>105.000000</td>\n",
       "      <td>1.000000</td>\n",
       "      <td>1.000000</td>\n",
       "      <td>1.000000</td>\n",
       "      <td>2.564500e+06</td>\n",
       "      <td>1.000000</td>\n",
       "      <td>1.000000</td>\n",
       "      <td>39.768403</td>\n",
       "      <td>-77.036871</td>\n",
       "      <td>6.500497</td>\n",
       "    </tr>\n",
       "    <tr>\n",
       "      <th>75%</th>\n",
       "      <td>147414.000000</td>\n",
       "      <td>232655.000000</td>\n",
       "      <td>NaN</td>\n",
       "      <td>484.000000</td>\n",
       "      <td>232.000000</td>\n",
       "      <td>1.000000</td>\n",
       "      <td>1.000000</td>\n",
       "      <td>2.000000</td>\n",
       "      <td>1.100000e+07</td>\n",
       "      <td>1.000000</td>\n",
       "      <td>3.000000</td>\n",
       "      <td>45.421530</td>\n",
       "      <td>-0.127758</td>\n",
       "      <td>13.549900</td>\n",
       "    </tr>\n",
       "    <tr>\n",
       "      <th>max</th>\n",
       "      <td>196552.000000</td>\n",
       "      <td>286215.000000</td>\n",
       "      <td>NaN</td>\n",
       "      <td>18200.000000</td>\n",
       "      <td>9600.000000</td>\n",
       "      <td>478.000000</td>\n",
       "      <td>459.000000</td>\n",
       "      <td>15.000000</td>\n",
       "      <td>5.700000e+09</td>\n",
       "      <td>9.000000</td>\n",
       "      <td>1189.000000</td>\n",
       "      <td>77.553604</td>\n",
       "      <td>176.212549</td>\n",
       "      <td>13333.333333</td>\n",
       "    </tr>\n",
       "  </tbody>\n",
       "</table>\n",
       "</div>"
      ],
      "text/plain": [
       "        Unnamed: 0.1      entity_id  parent_id     logo_width    logo_height  \\\n",
       "count  196553.000000  196553.000000        0.0  110110.000000  110110.000000   \n",
       "mean    98276.000000  153006.227333        NaN     459.132685     222.728917   \n",
       "std     56740.108067   90209.250941        NaN     594.982577     333.090722   \n",
       "min         0.000000       1.000000        NaN       1.000000       1.000000   \n",
       "25%     49138.000000   59850.000000        NaN     192.000000      70.000000   \n",
       "50%     98276.000000  174539.000000        NaN     267.000000     105.000000   \n",
       "75%    147414.000000  232655.000000        NaN     484.000000     232.000000   \n",
       "max    196552.000000  286215.000000        NaN   18200.000000    9600.000000   \n",
       "\n",
       "       investment_rounds  invested_companies  funding_rounds  \\\n",
       "count        2591.000000         2591.000000    31707.000000   \n",
       "mean            2.372057            2.204940        1.659760   \n",
       "std            12.173510           11.436955        1.201666   \n",
       "min             1.000000            1.000000        1.000000   \n",
       "25%             1.000000            1.000000        1.000000   \n",
       "50%             1.000000            1.000000        1.000000   \n",
       "75%             1.000000            1.000000        2.000000   \n",
       "max           478.000000          459.000000       15.000000   \n",
       "\n",
       "       funding_total_usd    milestones  relationships           lat  \\\n",
       "count       2.787400e+04  91699.000000  129667.000000  83852.000000   \n",
       "mean        1.481652e+07      1.199402       2.852067     37.564512   \n",
       "std         6.775937e+07      0.540099       9.100309     15.477102   \n",
       "min         2.910000e+02      1.000000       1.000000    -50.942326   \n",
       "25%         5.000000e+05      1.000000       1.000000     34.052234   \n",
       "50%         2.564500e+06      1.000000       1.000000     39.768403   \n",
       "75%         1.100000e+07      1.000000       3.000000     45.421530   \n",
       "max         5.700000e+09      9.000000    1189.000000     77.553604   \n",
       "\n",
       "                lng           ROI  \n",
       "count  83852.000000    726.000000  \n",
       "mean     -52.123066     45.745037  \n",
       "std       70.049067    572.035638  \n",
       "min     -159.497746      0.011111  \n",
       "25%     -111.940005      2.648879  \n",
       "50%      -77.036871      6.500497  \n",
       "75%       -0.127758     13.549900  \n",
       "max      176.212549  13333.333333  "
      ]
     },
     "execution_count": 7,
     "metadata": {},
     "output_type": "execute_result"
    }
   ],
   "source": [
    "data.describe()"
   ]
  },
  {
   "cell_type": "code",
   "execution_count": 8,
   "metadata": {},
   "outputs": [
    {
     "data": {
      "text/plain": [
       "Index(['id', 'Unnamed: 0.1', 'entity_type', 'entity_id', 'parent_id', 'name',\n",
       "       'normalized_name', 'permalink', 'category_code', 'status', 'founded_at',\n",
       "       'closed_at', 'domain', 'homepage_url', 'twitter_username', 'logo_url',\n",
       "       'logo_width', 'logo_height', 'short_description', 'description',\n",
       "       'overview', 'tag_list', 'country_code', 'state_code', 'city', 'region',\n",
       "       'first_investment_at', 'last_investment_at', 'investment_rounds',\n",
       "       'invested_companies', 'first_funding_at', 'last_funding_at',\n",
       "       'funding_rounds', 'funding_total_usd', 'first_milestone_at',\n",
       "       'last_milestone_at', 'milestones', 'relationships', 'created_by',\n",
       "       'created_at', 'updated_at', 'lat', 'lng', 'ROI'],\n",
       "      dtype='object')"
      ]
     },
     "execution_count": 8,
     "metadata": {},
     "output_type": "execute_result"
    }
   ],
   "source": [
    "data.columns"
   ]
  },
  {
   "cell_type": "markdown",
   "metadata": {},
   "source": [
    "#  Data Cleaning"
   ]
  },
  {
   "cell_type": "markdown",
   "metadata": {},
   "source": [
    "# Delete Irrelevant and redundant information."
   ]
  },
  {
   "cell_type": "markdown",
   "metadata": {},
   "source": [
    "Delete \"region\", \"city\", and \"state_code\" as they provide to much granularity.#"
   ]
  },
  {
   "cell_type": "code",
   "execution_count": 9,
   "metadata": {},
   "outputs": [],
   "source": [
    "columns_to_drop = [\"region\", \"city\", \"state_code\"]\n",
    "data.drop(columns_to_drop, inplace=True, axis=1)"
   ]
  },
  {
   "cell_type": "markdown",
   "metadata": {},
   "source": [
    "#Delete 'id', 'Unnamed: 0.1', 'entity_type', 'entity_id', 'parent_id', 'created_by', 'created_at', 'updated_at' as they are redundant.#"
   ]
  },
  {
   "cell_type": "code",
   "execution_count": 10,
   "metadata": {},
   "outputs": [],
   "source": [
    "columns_to_drop = ['id', 'Unnamed: 0.1', 'entity_type', 'entity_id', 'parent_id', 'created_by', 'created_at', 'updated_at']\n",
    "data.drop(columns_to_drop, inplace=True, axis=1)"
   ]
  },
  {
   "cell_type": "markdown",
   "metadata": {},
   "source": [
    "# Delete 'domain', 'homepage_url', 'twitter_username', 'logo_url', 'logo_width', 'logo_height', 'short_description', 'description', 'overview','tag_list', 'name', 'normalized_name', 'permalink', 'invested_companies' as they are irrelevant features.#"
   ]
  },
  {
   "cell_type": "code",
   "execution_count": 11,
   "metadata": {},
   "outputs": [],
   "source": [
    "columns_to_drop = ['domain', 'homepage_url', 'twitter_username', 'logo_url', 'logo_width', 'logo_height', 'short_description', 'description', 'overview','tag_list', 'name', 'normalized_name', 'permalink', 'invested_companies']\n",
    "data.drop(columns_to_drop, inplace=True, axis=1)"
   ]
  },
  {
   "cell_type": "code",
   "execution_count": 12,
   "metadata": {},
   "outputs": [
    {
     "data": {
      "text/plain": [
       "Index(['category_code', 'status', 'founded_at', 'closed_at', 'country_code',\n",
       "       'first_investment_at', 'last_investment_at', 'investment_rounds',\n",
       "       'first_funding_at', 'last_funding_at', 'funding_rounds',\n",
       "       'funding_total_usd', 'first_milestone_at', 'last_milestone_at',\n",
       "       'milestones', 'relationships', 'lat', 'lng', 'ROI'],\n",
       "      dtype='object')"
      ]
     },
     "execution_count": 12,
     "metadata": {},
     "output_type": "execute_result"
    }
   ],
   "source": [
    "data.columns"
   ]
  },
  {
   "cell_type": "markdown",
   "metadata": {},
   "source": [
    "# Delete duplicate values if found any."
   ]
  },
  {
   "cell_type": "code",
   "execution_count": 13,
   "metadata": {},
   "outputs": [
    {
     "data": {
      "text/html": [
       "<div>\n",
       "<style scoped>\n",
       "    .dataframe tbody tr th:only-of-type {\n",
       "        vertical-align: middle;\n",
       "    }\n",
       "\n",
       "    .dataframe tbody tr th {\n",
       "        vertical-align: top;\n",
       "    }\n",
       "\n",
       "    .dataframe thead th {\n",
       "        text-align: right;\n",
       "    }\n",
       "</style>\n",
       "<table border=\"1\" class=\"dataframe\">\n",
       "  <thead>\n",
       "    <tr style=\"text-align: right;\">\n",
       "      <th></th>\n",
       "      <th>category_code</th>\n",
       "      <th>status</th>\n",
       "      <th>founded_at</th>\n",
       "      <th>closed_at</th>\n",
       "      <th>country_code</th>\n",
       "      <th>first_investment_at</th>\n",
       "      <th>last_investment_at</th>\n",
       "      <th>investment_rounds</th>\n",
       "      <th>first_funding_at</th>\n",
       "      <th>last_funding_at</th>\n",
       "      <th>funding_rounds</th>\n",
       "      <th>funding_total_usd</th>\n",
       "      <th>first_milestone_at</th>\n",
       "      <th>last_milestone_at</th>\n",
       "      <th>milestones</th>\n",
       "      <th>relationships</th>\n",
       "      <th>lat</th>\n",
       "      <th>lng</th>\n",
       "      <th>ROI</th>\n",
       "    </tr>\n",
       "  </thead>\n",
       "  <tbody>\n",
       "    <tr>\n",
       "      <th>79</th>\n",
       "      <td>NaN</td>\n",
       "      <td>operating</td>\n",
       "      <td>NaN</td>\n",
       "      <td>NaN</td>\n",
       "      <td>NaN</td>\n",
       "      <td>NaN</td>\n",
       "      <td>NaN</td>\n",
       "      <td>NaN</td>\n",
       "      <td>NaN</td>\n",
       "      <td>NaN</td>\n",
       "      <td>NaN</td>\n",
       "      <td>NaN</td>\n",
       "      <td>NaN</td>\n",
       "      <td>NaN</td>\n",
       "      <td>NaN</td>\n",
       "      <td>1.0</td>\n",
       "      <td>NaN</td>\n",
       "      <td>NaN</td>\n",
       "      <td>NaN</td>\n",
       "    </tr>\n",
       "    <tr>\n",
       "      <th>114</th>\n",
       "      <td>NaN</td>\n",
       "      <td>operating</td>\n",
       "      <td>NaN</td>\n",
       "      <td>NaN</td>\n",
       "      <td>NaN</td>\n",
       "      <td>NaN</td>\n",
       "      <td>NaN</td>\n",
       "      <td>NaN</td>\n",
       "      <td>NaN</td>\n",
       "      <td>NaN</td>\n",
       "      <td>NaN</td>\n",
       "      <td>NaN</td>\n",
       "      <td>NaN</td>\n",
       "      <td>NaN</td>\n",
       "      <td>NaN</td>\n",
       "      <td>NaN</td>\n",
       "      <td>NaN</td>\n",
       "      <td>NaN</td>\n",
       "      <td>NaN</td>\n",
       "    </tr>\n",
       "    <tr>\n",
       "      <th>124</th>\n",
       "      <td>NaN</td>\n",
       "      <td>acquired</td>\n",
       "      <td>NaN</td>\n",
       "      <td>NaN</td>\n",
       "      <td>NaN</td>\n",
       "      <td>NaN</td>\n",
       "      <td>NaN</td>\n",
       "      <td>NaN</td>\n",
       "      <td>NaN</td>\n",
       "      <td>NaN</td>\n",
       "      <td>NaN</td>\n",
       "      <td>NaN</td>\n",
       "      <td>NaN</td>\n",
       "      <td>NaN</td>\n",
       "      <td>NaN</td>\n",
       "      <td>NaN</td>\n",
       "      <td>NaN</td>\n",
       "      <td>NaN</td>\n",
       "      <td>NaN</td>\n",
       "    </tr>\n",
       "    <tr>\n",
       "      <th>126</th>\n",
       "      <td>NaN</td>\n",
       "      <td>operating</td>\n",
       "      <td>NaN</td>\n",
       "      <td>NaN</td>\n",
       "      <td>NaN</td>\n",
       "      <td>NaN</td>\n",
       "      <td>NaN</td>\n",
       "      <td>NaN</td>\n",
       "      <td>NaN</td>\n",
       "      <td>NaN</td>\n",
       "      <td>NaN</td>\n",
       "      <td>NaN</td>\n",
       "      <td>NaN</td>\n",
       "      <td>NaN</td>\n",
       "      <td>NaN</td>\n",
       "      <td>1.0</td>\n",
       "      <td>NaN</td>\n",
       "      <td>NaN</td>\n",
       "      <td>NaN</td>\n",
       "    </tr>\n",
       "    <tr>\n",
       "      <th>132</th>\n",
       "      <td>NaN</td>\n",
       "      <td>acquired</td>\n",
       "      <td>NaN</td>\n",
       "      <td>NaN</td>\n",
       "      <td>NaN</td>\n",
       "      <td>NaN</td>\n",
       "      <td>NaN</td>\n",
       "      <td>NaN</td>\n",
       "      <td>NaN</td>\n",
       "      <td>NaN</td>\n",
       "      <td>NaN</td>\n",
       "      <td>NaN</td>\n",
       "      <td>NaN</td>\n",
       "      <td>NaN</td>\n",
       "      <td>NaN</td>\n",
       "      <td>NaN</td>\n",
       "      <td>NaN</td>\n",
       "      <td>NaN</td>\n",
       "      <td>NaN</td>\n",
       "    </tr>\n",
       "    <tr>\n",
       "      <th>...</th>\n",
       "      <td>...</td>\n",
       "      <td>...</td>\n",
       "      <td>...</td>\n",
       "      <td>...</td>\n",
       "      <td>...</td>\n",
       "      <td>...</td>\n",
       "      <td>...</td>\n",
       "      <td>...</td>\n",
       "      <td>...</td>\n",
       "      <td>...</td>\n",
       "      <td>...</td>\n",
       "      <td>...</td>\n",
       "      <td>...</td>\n",
       "      <td>...</td>\n",
       "      <td>...</td>\n",
       "      <td>...</td>\n",
       "      <td>...</td>\n",
       "      <td>...</td>\n",
       "      <td>...</td>\n",
       "    </tr>\n",
       "    <tr>\n",
       "      <th>196533</th>\n",
       "      <td>NaN</td>\n",
       "      <td>operating</td>\n",
       "      <td>NaN</td>\n",
       "      <td>NaN</td>\n",
       "      <td>NaN</td>\n",
       "      <td>NaN</td>\n",
       "      <td>NaN</td>\n",
       "      <td>NaN</td>\n",
       "      <td>NaN</td>\n",
       "      <td>NaN</td>\n",
       "      <td>NaN</td>\n",
       "      <td>NaN</td>\n",
       "      <td>NaN</td>\n",
       "      <td>NaN</td>\n",
       "      <td>NaN</td>\n",
       "      <td>NaN</td>\n",
       "      <td>NaN</td>\n",
       "      <td>NaN</td>\n",
       "      <td>NaN</td>\n",
       "    </tr>\n",
       "    <tr>\n",
       "      <th>196534</th>\n",
       "      <td>NaN</td>\n",
       "      <td>operating</td>\n",
       "      <td>NaN</td>\n",
       "      <td>NaN</td>\n",
       "      <td>NaN</td>\n",
       "      <td>NaN</td>\n",
       "      <td>NaN</td>\n",
       "      <td>NaN</td>\n",
       "      <td>NaN</td>\n",
       "      <td>NaN</td>\n",
       "      <td>NaN</td>\n",
       "      <td>NaN</td>\n",
       "      <td>NaN</td>\n",
       "      <td>NaN</td>\n",
       "      <td>NaN</td>\n",
       "      <td>NaN</td>\n",
       "      <td>NaN</td>\n",
       "      <td>NaN</td>\n",
       "      <td>NaN</td>\n",
       "    </tr>\n",
       "    <tr>\n",
       "      <th>196535</th>\n",
       "      <td>NaN</td>\n",
       "      <td>operating</td>\n",
       "      <td>NaN</td>\n",
       "      <td>NaN</td>\n",
       "      <td>NaN</td>\n",
       "      <td>NaN</td>\n",
       "      <td>NaN</td>\n",
       "      <td>NaN</td>\n",
       "      <td>NaN</td>\n",
       "      <td>NaN</td>\n",
       "      <td>NaN</td>\n",
       "      <td>NaN</td>\n",
       "      <td>NaN</td>\n",
       "      <td>NaN</td>\n",
       "      <td>NaN</td>\n",
       "      <td>NaN</td>\n",
       "      <td>NaN</td>\n",
       "      <td>NaN</td>\n",
       "      <td>NaN</td>\n",
       "    </tr>\n",
       "    <tr>\n",
       "      <th>196536</th>\n",
       "      <td>NaN</td>\n",
       "      <td>operating</td>\n",
       "      <td>NaN</td>\n",
       "      <td>NaN</td>\n",
       "      <td>NaN</td>\n",
       "      <td>NaN</td>\n",
       "      <td>NaN</td>\n",
       "      <td>NaN</td>\n",
       "      <td>NaN</td>\n",
       "      <td>NaN</td>\n",
       "      <td>NaN</td>\n",
       "      <td>NaN</td>\n",
       "      <td>NaN</td>\n",
       "      <td>NaN</td>\n",
       "      <td>NaN</td>\n",
       "      <td>NaN</td>\n",
       "      <td>NaN</td>\n",
       "      <td>NaN</td>\n",
       "      <td>NaN</td>\n",
       "    </tr>\n",
       "    <tr>\n",
       "      <th>196546</th>\n",
       "      <td>NaN</td>\n",
       "      <td>operating</td>\n",
       "      <td>NaN</td>\n",
       "      <td>NaN</td>\n",
       "      <td>NaN</td>\n",
       "      <td>NaN</td>\n",
       "      <td>NaN</td>\n",
       "      <td>NaN</td>\n",
       "      <td>NaN</td>\n",
       "      <td>NaN</td>\n",
       "      <td>NaN</td>\n",
       "      <td>NaN</td>\n",
       "      <td>NaN</td>\n",
       "      <td>NaN</td>\n",
       "      <td>NaN</td>\n",
       "      <td>NaN</td>\n",
       "      <td>NaN</td>\n",
       "      <td>NaN</td>\n",
       "      <td>NaN</td>\n",
       "    </tr>\n",
       "  </tbody>\n",
       "</table>\n",
       "<p>87089 rows × 19 columns</p>\n",
       "</div>"
      ],
      "text/plain": [
       "       category_code     status founded_at closed_at country_code  \\\n",
       "79               NaN  operating        NaN       NaN          NaN   \n",
       "114              NaN  operating        NaN       NaN          NaN   \n",
       "124              NaN   acquired        NaN       NaN          NaN   \n",
       "126              NaN  operating        NaN       NaN          NaN   \n",
       "132              NaN   acquired        NaN       NaN          NaN   \n",
       "...              ...        ...        ...       ...          ...   \n",
       "196533           NaN  operating        NaN       NaN          NaN   \n",
       "196534           NaN  operating        NaN       NaN          NaN   \n",
       "196535           NaN  operating        NaN       NaN          NaN   \n",
       "196536           NaN  operating        NaN       NaN          NaN   \n",
       "196546           NaN  operating        NaN       NaN          NaN   \n",
       "\n",
       "       first_investment_at last_investment_at  investment_rounds  \\\n",
       "79                     NaN                NaN                NaN   \n",
       "114                    NaN                NaN                NaN   \n",
       "124                    NaN                NaN                NaN   \n",
       "126                    NaN                NaN                NaN   \n",
       "132                    NaN                NaN                NaN   \n",
       "...                    ...                ...                ...   \n",
       "196533                 NaN                NaN                NaN   \n",
       "196534                 NaN                NaN                NaN   \n",
       "196535                 NaN                NaN                NaN   \n",
       "196536                 NaN                NaN                NaN   \n",
       "196546                 NaN                NaN                NaN   \n",
       "\n",
       "       first_funding_at last_funding_at  funding_rounds  funding_total_usd  \\\n",
       "79                  NaN             NaN             NaN                NaN   \n",
       "114                 NaN             NaN             NaN                NaN   \n",
       "124                 NaN             NaN             NaN                NaN   \n",
       "126                 NaN             NaN             NaN                NaN   \n",
       "132                 NaN             NaN             NaN                NaN   \n",
       "...                 ...             ...             ...                ...   \n",
       "196533              NaN             NaN             NaN                NaN   \n",
       "196534              NaN             NaN             NaN                NaN   \n",
       "196535              NaN             NaN             NaN                NaN   \n",
       "196536              NaN             NaN             NaN                NaN   \n",
       "196546              NaN             NaN             NaN                NaN   \n",
       "\n",
       "       first_milestone_at last_milestone_at  milestones  relationships  lat  \\\n",
       "79                    NaN               NaN         NaN            1.0  NaN   \n",
       "114                   NaN               NaN         NaN            NaN  NaN   \n",
       "124                   NaN               NaN         NaN            NaN  NaN   \n",
       "126                   NaN               NaN         NaN            1.0  NaN   \n",
       "132                   NaN               NaN         NaN            NaN  NaN   \n",
       "...                   ...               ...         ...            ...  ...   \n",
       "196533                NaN               NaN         NaN            NaN  NaN   \n",
       "196534                NaN               NaN         NaN            NaN  NaN   \n",
       "196535                NaN               NaN         NaN            NaN  NaN   \n",
       "196536                NaN               NaN         NaN            NaN  NaN   \n",
       "196546                NaN               NaN         NaN            NaN  NaN   \n",
       "\n",
       "        lng  ROI  \n",
       "79      NaN  NaN  \n",
       "114     NaN  NaN  \n",
       "124     NaN  NaN  \n",
       "126     NaN  NaN  \n",
       "132     NaN  NaN  \n",
       "...     ...  ...  \n",
       "196533  NaN  NaN  \n",
       "196534  NaN  NaN  \n",
       "196535  NaN  NaN  \n",
       "196536  NaN  NaN  \n",
       "196546  NaN  NaN  \n",
       "\n",
       "[87089 rows x 19 columns]"
      ]
     },
     "execution_count": 13,
     "metadata": {},
     "output_type": "execute_result"
    }
   ],
   "source": [
    "# Checking for duplicates\n",
    "data.loc[data.duplicated(keep=\"first\"), :]"
   ]
  },
  {
   "cell_type": "code",
   "execution_count": 14,
   "metadata": {},
   "outputs": [
    {
     "data": {
      "text/plain": [
       "87089"
      ]
     },
     "execution_count": 14,
     "metadata": {},
     "output_type": "execute_result"
    }
   ],
   "source": [
    "# Getting total number of duplicates\n",
    "data.duplicated().sum()"
   ]
  },
  {
   "cell_type": "code",
   "execution_count": 15,
   "metadata": {},
   "outputs": [
    {
     "data": {
      "text/plain": [
       "(109464, 19)"
      ]
     },
     "execution_count": 15,
     "metadata": {},
     "output_type": "execute_result"
    }
   ],
   "source": [
    "# Dropping duplicates from dataset\n",
    "# data.drop_duplicates(keep=\"first\", inplace=True)\n",
    "# data.shape\n",
    "\n",
    "# Creating a custom transformer for duplication removal in dataset\n",
    "class DuplicatesRemover(BaseEstimator, TransformerMixin):\n",
    "    \n",
    "    def __init__(self):\n",
    "        pass\n",
    "    \n",
    "    def fit(self, X, y=None):\n",
    "        return self\n",
    "    \n",
    "    def transform(self, X):\n",
    "        X_without_duplicates = X.drop_duplicates(keep=\"first\")\n",
    "        return X_without_duplicates\n",
    "    \n",
    "duplicates_remover = DuplicatesRemover()\n",
    "data = duplicates_remover.fit_transform(data)\n",
    "data.shape"
   ]
  },
  {
   "cell_type": "code",
   "execution_count": 16,
   "metadata": {},
   "outputs": [
    {
     "data": {
      "text/plain": [
       "0"
      ]
     },
     "execution_count": 16,
     "metadata": {},
     "output_type": "execute_result"
    }
   ],
   "source": [
    "data.duplicated().sum()"
   ]
  },
  {
   "cell_type": "markdown",
   "metadata": {},
   "source": [
    "# Delete those which has more than 98% of null values"
   ]
  },
  {
   "cell_type": "code",
   "execution_count": 17,
   "metadata": {},
   "outputs": [
    {
     "data": {
      "text/plain": [
       "category_code          11.172623\n",
       "status                  0.000000\n",
       "founded_at             24.586165\n",
       "closed_at              97.607433\n",
       "country_code           22.719798\n",
       "first_investment_at    97.947270\n",
       "last_investment_at     97.947270\n",
       "investment_rounds      97.943616\n",
       "first_funding_at       71.248995\n",
       "last_funding_at        71.248995\n",
       "funding_rounds         71.067200\n",
       "funding_total_usd      74.546883\n",
       "first_milestone_at     48.740225\n",
       "last_milestone_at      48.740225\n",
       "milestones             48.740225\n",
       "relationships          31.428598\n",
       "lat                    25.910802\n",
       "lng                    25.910802\n",
       "ROI                    99.336768\n",
       "dtype: float64"
      ]
     },
     "execution_count": 17,
     "metadata": {},
     "output_type": "execute_result"
    }
   ],
   "source": [
    "# Getting null value percentage for each column\n",
    "columns_null_percentages = (data.isnull().sum() / len(data.index)) * 100\n",
    "columns_null_percentages"
   ]
  },
  {
   "cell_type": "code",
   "execution_count": 18,
   "metadata": {},
   "outputs": [
    {
     "data": {
      "text/plain": [
       "['ROI']"
      ]
     },
     "execution_count": 18,
     "metadata": {},
     "output_type": "execute_result"
    }
   ],
   "source": [
    "# Extracting columns with more than threshold percentage\n",
    "columns_to_drop = list(data.loc[:, columns_null_percentages >= 98].columns.values)\n",
    "columns_to_drop"
   ]
  },
  {
   "cell_type": "code",
   "execution_count": 19,
   "metadata": {},
   "outputs": [],
   "source": [
    "# Dropping columns with more than threshold percentage\n",
    "data.drop(columns_to_drop, inplace=True, axis=1)"
   ]
  },
  {
   "cell_type": "code",
   "execution_count": 20,
   "metadata": {},
   "outputs": [
    {
     "data": {
      "text/plain": [
       "Index(['category_code', 'status', 'founded_at', 'closed_at', 'country_code',\n",
       "       'first_investment_at', 'last_investment_at', 'investment_rounds',\n",
       "       'first_funding_at', 'last_funding_at', 'funding_rounds',\n",
       "       'funding_total_usd', 'first_milestone_at', 'last_milestone_at',\n",
       "       'milestones', 'relationships', 'lat', 'lng'],\n",
       "      dtype='object')"
      ]
     },
     "execution_count": 20,
     "metadata": {},
     "output_type": "execute_result"
    }
   ],
   "source": [
    "data.columns"
   ]
  },
  {
   "cell_type": "markdown",
   "metadata": {},
   "source": [
    "# Remove noise or unreliable data (missing values and outliers)"
   ]
  },
  {
   "cell_type": "code",
   "execution_count": 21,
   "metadata": {},
   "outputs": [],
   "source": [
    "#Calculating percentage of missing values in dataset"
   ]
  },
  {
   "cell_type": "code",
   "execution_count": 22,
   "metadata": {},
   "outputs": [],
   "source": [
    "# Function to get percentage of missing data in whole dataset\n",
    "def get_missing_values_percentage(data_frame):\n",
    "    missing_values_count = data.isnull().sum()\n",
    "    total_values = np.product(data.shape)\n",
    "    total_missing_values = missing_values_count.sum()\n",
    "    return (total_missing_values / total_values) * 100"
   ]
  },
  {
   "cell_type": "code",
   "execution_count": 23,
   "metadata": {},
   "outputs": [
    {
     "data": {
      "text/plain": [
       "53.75039586835245"
      ]
     },
     "execution_count": 23,
     "metadata": {},
     "output_type": "execute_result"
    }
   ],
   "source": [
    "get_missing_values_percentage(data)"
   ]
  },
  {
   "cell_type": "code",
   "execution_count": 24,
   "metadata": {},
   "outputs": [],
   "source": [
    "#Delete instances with missing values for 'status', 'country_code', 'category_code' and 'founded_at'."
   ]
  },
  {
   "cell_type": "code",
   "execution_count": 25,
   "metadata": {
    "scrolled": true
   },
   "outputs": [
    {
     "data": {
      "text/plain": [
       "status            0\n",
       "founded_at    26913\n",
       "dtype: int64"
      ]
     },
     "execution_count": 25,
     "metadata": {},
     "output_type": "execute_result"
    }
   ],
   "source": [
    "# Checking number of null values for target columns\n",
    "target_columns = [\"status\", \"founded_at\"]\n",
    "data[target_columns].isnull().sum()"
   ]
  },
  {
   "cell_type": "code",
   "execution_count": 26,
   "metadata": {},
   "outputs": [],
   "source": [
    "# Dropping null values from target columns\n",
    "data.dropna(subset=target_columns, inplace=True)"
   ]
  },
  {
   "cell_type": "code",
   "execution_count": 27,
   "metadata": {},
   "outputs": [
    {
     "data": {
      "text/plain": [
       "status        0\n",
       "founded_at    0\n",
       "dtype: int64"
      ]
     },
     "execution_count": 27,
     "metadata": {},
     "output_type": "execute_result"
    }
   ],
   "source": [
    "data[target_columns].isnull().sum()"
   ]
  },
  {
   "cell_type": "code",
   "execution_count": 28,
   "metadata": {},
   "outputs": [
    {
     "data": {
      "text/plain": [
       "(82551, 18)"
      ]
     },
     "execution_count": 28,
     "metadata": {},
     "output_type": "execute_result"
    }
   ],
   "source": [
    "data.shape"
   ]
  },
  {
   "cell_type": "markdown",
   "metadata": {},
   "source": [
    "# Delete outliers for 'funding_total_usd' and 'funding_rounds'"
   ]
  },
  {
   "cell_type": "code",
   "execution_count": 29,
   "metadata": {},
   "outputs": [],
   "source": [
    "# sns.boxplot(x=data[\"funding_total_usd\"])"
   ]
  },
  {
   "cell_type": "code",
   "execution_count": 30,
   "metadata": {},
   "outputs": [],
   "source": [
    "# sns.boxplot(x=data[\"funding_rounds\"])"
   ]
  },
  {
   "cell_type": "code",
   "execution_count": 31,
   "metadata": {},
   "outputs": [],
   "source": [
    "# Function to remove outliers for a given column (feature)\n",
    "def remove_outliers(data_frame, feature):\n",
    "    q1 = data_frame[feature].quantile(0.25)\n",
    "    q3 = data_frame[feature].quantile(0.75)\n",
    "    iqr = q3 - q1\n",
    "    upper_limit = q3 + 1.5 * iqr\n",
    "    lower_limit = q1 - 1.5 * iqr\n",
    "    return data_frame.loc[(data[feature] > lower_limit) & (data[feature] < upper_limit)]"
   ]
  },
  {
   "cell_type": "code",
   "execution_count": 32,
   "metadata": {},
   "outputs": [],
   "source": [
    "# Removing outliers for columns \"funding_total_usd\" and \"funding_rounds\"\n",
    "data = remove_outliers(data, \"funding_total_usd\")\n",
    "data = remove_outliers(data, \"funding_rounds\")"
   ]
  },
  {
   "cell_type": "code",
   "execution_count": 33,
   "metadata": {},
   "outputs": [],
   "source": [
    "# sns.boxplot(x=data[\"funding_total_usd\"])"
   ]
  },
  {
   "cell_type": "code",
   "execution_count": 34,
   "metadata": {},
   "outputs": [],
   "source": [
    "# sns.boxplot(x=data[\"funding_rounds\"])"
   ]
  },
  {
   "cell_type": "code",
   "execution_count": 35,
   "metadata": {},
   "outputs": [
    {
     "data": {
      "text/plain": [
       "(18026, 18)"
      ]
     },
     "execution_count": 35,
     "metadata": {},
     "output_type": "execute_result"
    }
   ],
   "source": [
    "data.shape"
   ]
  },
  {
   "cell_type": "code",
   "execution_count": 36,
   "metadata": {},
   "outputs": [
    {
     "data": {
      "text/plain": [
       "30.729994945572447"
      ]
     },
     "execution_count": 36,
     "metadata": {},
     "output_type": "execute_result"
    }
   ],
   "source": [
    "get_missing_values_percentage(data)"
   ]
  },
  {
   "cell_type": "markdown",
   "metadata": {},
   "source": [
    "# Date Transformation"
   ]
  },
  {
   "cell_type": "code",
   "execution_count": 37,
   "metadata": {},
   "outputs": [],
   "source": [
    "#Changes in original data"
   ]
  },
  {
   "cell_type": "code",
   "execution_count": 38,
   "metadata": {},
   "outputs": [],
   "source": [
    "#Convert founded_at, closed_at, first_funded_at, last_funding_at, first_milestone_at , last_milestone_at, first_investment_at, last_investment_at to years.¶"
   ]
  },
  {
   "cell_type": "code",
   "execution_count": 39,
   "metadata": {},
   "outputs": [],
   "source": [
    "# Function to extract year from date for a given column (feature)\n",
    "def extract_year(data, feature):\n",
    "    return pd.to_datetime(data[feature], format=\"%Y-%m-%d\").dt.year"
   ]
  },
  {
   "cell_type": "code",
   "execution_count": 40,
   "metadata": {},
   "outputs": [
    {
     "data": {
      "text/html": [
       "<div>\n",
       "<style scoped>\n",
       "    .dataframe tbody tr th:only-of-type {\n",
       "        vertical-align: middle;\n",
       "    }\n",
       "\n",
       "    .dataframe tbody tr th {\n",
       "        vertical-align: top;\n",
       "    }\n",
       "\n",
       "    .dataframe thead th {\n",
       "        text-align: right;\n",
       "    }\n",
       "</style>\n",
       "<table border=\"1\" class=\"dataframe\">\n",
       "  <thead>\n",
       "    <tr style=\"text-align: right;\">\n",
       "      <th></th>\n",
       "      <th>category_code</th>\n",
       "      <th>status</th>\n",
       "      <th>founded_at</th>\n",
       "      <th>closed_at</th>\n",
       "      <th>country_code</th>\n",
       "      <th>first_investment_at</th>\n",
       "      <th>last_investment_at</th>\n",
       "      <th>investment_rounds</th>\n",
       "      <th>first_funding_at</th>\n",
       "      <th>last_funding_at</th>\n",
       "      <th>funding_rounds</th>\n",
       "      <th>funding_total_usd</th>\n",
       "      <th>first_milestone_at</th>\n",
       "      <th>last_milestone_at</th>\n",
       "      <th>milestones</th>\n",
       "      <th>relationships</th>\n",
       "      <th>lat</th>\n",
       "      <th>lng</th>\n",
       "    </tr>\n",
       "  </thead>\n",
       "  <tbody>\n",
       "    <tr>\n",
       "      <th>13</th>\n",
       "      <td>web</td>\n",
       "      <td>acquired</td>\n",
       "      <td>2007</td>\n",
       "      <td>NaN</td>\n",
       "      <td>USA</td>\n",
       "      <td>NaN</td>\n",
       "      <td>NaN</td>\n",
       "      <td>NaN</td>\n",
       "      <td>2008.0</td>\n",
       "      <td>2008.0</td>\n",
       "      <td>1.0</td>\n",
       "      <td>5000000.0</td>\n",
       "      <td>2008.0</td>\n",
       "      <td>2012.0</td>\n",
       "      <td>3.0</td>\n",
       "      <td>14.0</td>\n",
       "      <td>37.386052</td>\n",
       "      <td>-122.083851</td>\n",
       "    </tr>\n",
       "    <tr>\n",
       "      <th>20</th>\n",
       "      <td>cleantech</td>\n",
       "      <td>operating</td>\n",
       "      <td>2003</td>\n",
       "      <td>NaN</td>\n",
       "      <td>USA</td>\n",
       "      <td>NaN</td>\n",
       "      <td>NaN</td>\n",
       "      <td>NaN</td>\n",
       "      <td>2011.0</td>\n",
       "      <td>2012.0</td>\n",
       "      <td>3.0</td>\n",
       "      <td>10125293.0</td>\n",
       "      <td>2010.0</td>\n",
       "      <td>2010.0</td>\n",
       "      <td>1.0</td>\n",
       "      <td>6.0</td>\n",
       "      <td>30.267153</td>\n",
       "      <td>-97.743061</td>\n",
       "    </tr>\n",
       "    <tr>\n",
       "      <th>26</th>\n",
       "      <td>mobile</td>\n",
       "      <td>operating</td>\n",
       "      <td>2003</td>\n",
       "      <td>NaN</td>\n",
       "      <td>AUS</td>\n",
       "      <td>NaN</td>\n",
       "      <td>NaN</td>\n",
       "      <td>NaN</td>\n",
       "      <td>2003.0</td>\n",
       "      <td>2003.0</td>\n",
       "      <td>1.0</td>\n",
       "      <td>250000.0</td>\n",
       "      <td>2007.0</td>\n",
       "      <td>2007.0</td>\n",
       "      <td>1.0</td>\n",
       "      <td>2.0</td>\n",
       "      <td>-27.469771</td>\n",
       "      <td>153.025124</td>\n",
       "    </tr>\n",
       "    <tr>\n",
       "      <th>32</th>\n",
       "      <td>education</td>\n",
       "      <td>operating</td>\n",
       "      <td>2010</td>\n",
       "      <td>NaN</td>\n",
       "      <td>USA</td>\n",
       "      <td>NaN</td>\n",
       "      <td>NaN</td>\n",
       "      <td>NaN</td>\n",
       "      <td>2011.0</td>\n",
       "      <td>2011.0</td>\n",
       "      <td>1.0</td>\n",
       "      <td>100000.0</td>\n",
       "      <td>2010.0</td>\n",
       "      <td>2010.0</td>\n",
       "      <td>1.0</td>\n",
       "      <td>NaN</td>\n",
       "      <td>NaN</td>\n",
       "      <td>NaN</td>\n",
       "    </tr>\n",
       "    <tr>\n",
       "      <th>36</th>\n",
       "      <td>medical</td>\n",
       "      <td>operating</td>\n",
       "      <td>2006</td>\n",
       "      <td>NaN</td>\n",
       "      <td>USA</td>\n",
       "      <td>NaN</td>\n",
       "      <td>NaN</td>\n",
       "      <td>NaN</td>\n",
       "      <td>2011.0</td>\n",
       "      <td>2012.0</td>\n",
       "      <td>2.0</td>\n",
       "      <td>11300000.0</td>\n",
       "      <td>NaN</td>\n",
       "      <td>NaN</td>\n",
       "      <td>NaN</td>\n",
       "      <td>2.0</td>\n",
       "      <td>42.018989</td>\n",
       "      <td>-71.007821</td>\n",
       "    </tr>\n",
       "  </tbody>\n",
       "</table>\n",
       "</div>"
      ],
      "text/plain": [
       "   category_code     status  founded_at  closed_at country_code  \\\n",
       "13           web   acquired        2007        NaN          USA   \n",
       "20     cleantech  operating        2003        NaN          USA   \n",
       "26        mobile  operating        2003        NaN          AUS   \n",
       "32     education  operating        2010        NaN          USA   \n",
       "36       medical  operating        2006        NaN          USA   \n",
       "\n",
       "    first_investment_at  last_investment_at  investment_rounds  \\\n",
       "13                  NaN                 NaN                NaN   \n",
       "20                  NaN                 NaN                NaN   \n",
       "26                  NaN                 NaN                NaN   \n",
       "32                  NaN                 NaN                NaN   \n",
       "36                  NaN                 NaN                NaN   \n",
       "\n",
       "    first_funding_at  last_funding_at  funding_rounds  funding_total_usd  \\\n",
       "13            2008.0           2008.0             1.0          5000000.0   \n",
       "20            2011.0           2012.0             3.0         10125293.0   \n",
       "26            2003.0           2003.0             1.0           250000.0   \n",
       "32            2011.0           2011.0             1.0           100000.0   \n",
       "36            2011.0           2012.0             2.0         11300000.0   \n",
       "\n",
       "    first_milestone_at  last_milestone_at  milestones  relationships  \\\n",
       "13              2008.0             2012.0         3.0           14.0   \n",
       "20              2010.0             2010.0         1.0            6.0   \n",
       "26              2007.0             2007.0         1.0            2.0   \n",
       "32              2010.0             2010.0         1.0            NaN   \n",
       "36                 NaN                NaN         NaN            2.0   \n",
       "\n",
       "          lat         lng  \n",
       "13  37.386052 -122.083851  \n",
       "20  30.267153  -97.743061  \n",
       "26 -27.469771  153.025124  \n",
       "32        NaN         NaN  \n",
       "36  42.018989  -71.007821  "
      ]
     },
     "execution_count": 40,
     "metadata": {},
     "output_type": "execute_result"
    }
   ],
   "source": [
    "# Converting target columns dates to year only\n",
    "target_columns = [\"founded_at\", \"closed_at\", \"first_funding_at\", \"last_funding_at\", \"first_milestone_at\" , \"last_milestone_at\", \"first_investment_at\", \"last_investment_at\"]\n",
    "for column in target_columns:\n",
    "    data[column] = extract_year(data, column)\n",
    "data.head()"
   ]
  },
  {
   "cell_type": "code",
   "execution_count": 41,
   "metadata": {},
   "outputs": [
    {
     "data": {
      "text/html": [
       "<div>\n",
       "<style scoped>\n",
       "    .dataframe tbody tr th:only-of-type {\n",
       "        vertical-align: middle;\n",
       "    }\n",
       "\n",
       "    .dataframe tbody tr th {\n",
       "        vertical-align: top;\n",
       "    }\n",
       "\n",
       "    .dataframe thead th {\n",
       "        text-align: right;\n",
       "    }\n",
       "</style>\n",
       "<table border=\"1\" class=\"dataframe\">\n",
       "  <thead>\n",
       "    <tr style=\"text-align: right;\">\n",
       "      <th></th>\n",
       "      <th>category_code</th>\n",
       "      <th>status</th>\n",
       "      <th>founded_at</th>\n",
       "      <th>closed_at</th>\n",
       "      <th>country_code</th>\n",
       "      <th>first_investment_at</th>\n",
       "      <th>last_investment_at</th>\n",
       "      <th>investment_rounds</th>\n",
       "      <th>first_funding_at</th>\n",
       "      <th>last_funding_at</th>\n",
       "      <th>funding_rounds</th>\n",
       "      <th>funding_total_usd</th>\n",
       "      <th>first_milestone_at</th>\n",
       "      <th>last_milestone_at</th>\n",
       "      <th>milestones</th>\n",
       "      <th>relationships</th>\n",
       "      <th>lat</th>\n",
       "      <th>lng</th>\n",
       "    </tr>\n",
       "  </thead>\n",
       "  <tbody>\n",
       "    <tr>\n",
       "      <th>13</th>\n",
       "      <td>web</td>\n",
       "      <td>acquired</td>\n",
       "      <td>2007</td>\n",
       "      <td>NaN</td>\n",
       "      <td>USA</td>\n",
       "      <td>NaN</td>\n",
       "      <td>NaN</td>\n",
       "      <td>NaN</td>\n",
       "      <td>2008.0</td>\n",
       "      <td>2008.0</td>\n",
       "      <td>1.0</td>\n",
       "      <td>5000000.0</td>\n",
       "      <td>2008.0</td>\n",
       "      <td>2012.0</td>\n",
       "      <td>3.0</td>\n",
       "      <td>14.0</td>\n",
       "      <td>37.386052</td>\n",
       "      <td>-122.083851</td>\n",
       "    </tr>\n",
       "    <tr>\n",
       "      <th>20</th>\n",
       "      <td>cleantech</td>\n",
       "      <td>operating</td>\n",
       "      <td>2003</td>\n",
       "      <td>NaN</td>\n",
       "      <td>USA</td>\n",
       "      <td>NaN</td>\n",
       "      <td>NaN</td>\n",
       "      <td>NaN</td>\n",
       "      <td>2011.0</td>\n",
       "      <td>2012.0</td>\n",
       "      <td>3.0</td>\n",
       "      <td>10125293.0</td>\n",
       "      <td>2010.0</td>\n",
       "      <td>2010.0</td>\n",
       "      <td>1.0</td>\n",
       "      <td>6.0</td>\n",
       "      <td>30.267153</td>\n",
       "      <td>-97.743061</td>\n",
       "    </tr>\n",
       "    <tr>\n",
       "      <th>26</th>\n",
       "      <td>mobile</td>\n",
       "      <td>operating</td>\n",
       "      <td>2003</td>\n",
       "      <td>NaN</td>\n",
       "      <td>AUS</td>\n",
       "      <td>NaN</td>\n",
       "      <td>NaN</td>\n",
       "      <td>NaN</td>\n",
       "      <td>2003.0</td>\n",
       "      <td>2003.0</td>\n",
       "      <td>1.0</td>\n",
       "      <td>250000.0</td>\n",
       "      <td>2007.0</td>\n",
       "      <td>2007.0</td>\n",
       "      <td>1.0</td>\n",
       "      <td>2.0</td>\n",
       "      <td>-27.469771</td>\n",
       "      <td>153.025124</td>\n",
       "    </tr>\n",
       "    <tr>\n",
       "      <th>32</th>\n",
       "      <td>education</td>\n",
       "      <td>operating</td>\n",
       "      <td>2010</td>\n",
       "      <td>NaN</td>\n",
       "      <td>USA</td>\n",
       "      <td>NaN</td>\n",
       "      <td>NaN</td>\n",
       "      <td>NaN</td>\n",
       "      <td>2011.0</td>\n",
       "      <td>2011.0</td>\n",
       "      <td>1.0</td>\n",
       "      <td>100000.0</td>\n",
       "      <td>2010.0</td>\n",
       "      <td>2010.0</td>\n",
       "      <td>1.0</td>\n",
       "      <td>NaN</td>\n",
       "      <td>NaN</td>\n",
       "      <td>NaN</td>\n",
       "    </tr>\n",
       "    <tr>\n",
       "      <th>36</th>\n",
       "      <td>medical</td>\n",
       "      <td>operating</td>\n",
       "      <td>2006</td>\n",
       "      <td>NaN</td>\n",
       "      <td>USA</td>\n",
       "      <td>NaN</td>\n",
       "      <td>NaN</td>\n",
       "      <td>NaN</td>\n",
       "      <td>2011.0</td>\n",
       "      <td>2012.0</td>\n",
       "      <td>2.0</td>\n",
       "      <td>11300000.0</td>\n",
       "      <td>NaN</td>\n",
       "      <td>NaN</td>\n",
       "      <td>NaN</td>\n",
       "      <td>2.0</td>\n",
       "      <td>42.018989</td>\n",
       "      <td>-71.007821</td>\n",
       "    </tr>\n",
       "  </tbody>\n",
       "</table>\n",
       "</div>"
      ],
      "text/plain": [
       "   category_code     status  founded_at  closed_at country_code  \\\n",
       "13           web   acquired        2007        NaN          USA   \n",
       "20     cleantech  operating        2003        NaN          USA   \n",
       "26        mobile  operating        2003        NaN          AUS   \n",
       "32     education  operating        2010        NaN          USA   \n",
       "36       medical  operating        2006        NaN          USA   \n",
       "\n",
       "    first_investment_at  last_investment_at  investment_rounds  \\\n",
       "13                  NaN                 NaN                NaN   \n",
       "20                  NaN                 NaN                NaN   \n",
       "26                  NaN                 NaN                NaN   \n",
       "32                  NaN                 NaN                NaN   \n",
       "36                  NaN                 NaN                NaN   \n",
       "\n",
       "    first_funding_at  last_funding_at  funding_rounds  funding_total_usd  \\\n",
       "13            2008.0           2008.0             1.0          5000000.0   \n",
       "20            2011.0           2012.0             3.0         10125293.0   \n",
       "26            2003.0           2003.0             1.0           250000.0   \n",
       "32            2011.0           2011.0             1.0           100000.0   \n",
       "36            2011.0           2012.0             2.0         11300000.0   \n",
       "\n",
       "    first_milestone_at  last_milestone_at  milestones  relationships  \\\n",
       "13              2008.0             2012.0         3.0           14.0   \n",
       "20              2010.0             2010.0         1.0            6.0   \n",
       "26              2007.0             2007.0         1.0            2.0   \n",
       "32              2010.0             2010.0         1.0            NaN   \n",
       "36                 NaN                NaN         NaN            2.0   \n",
       "\n",
       "          lat         lng  \n",
       "13  37.386052 -122.083851  \n",
       "20  30.267153  -97.743061  \n",
       "26 -27.469771  153.025124  \n",
       "32        NaN         NaN  \n",
       "36  42.018989  -71.007821  "
      ]
     },
     "execution_count": 41,
     "metadata": {},
     "output_type": "execute_result"
    }
   ],
   "source": [
    "data.head()"
   ]
  },
  {
   "cell_type": "code",
   "execution_count": 42,
   "metadata": {},
   "outputs": [],
   "source": [
    "# Plotting count of companies with their starting year\n",
    "# plt.figure(figsize=(10, 15))\n",
    "# sns.countplot(y=data[\"founded_at\"])"
   ]
  },
  {
   "cell_type": "markdown",
   "metadata": {},
   "source": [
    "# Generalize the categorical data i.e. category_code and country_code"
   ]
  },
  {
   "cell_type": "code",
   "execution_count": 43,
   "metadata": {},
   "outputs": [
    {
     "data": {
      "text/plain": [
       "array(['web', 'cleantech', 'mobile', 'education', 'medical',\n",
       "       'games_video', 'enterprise', 'software', 'analytics', 'news',\n",
       "       'government', 'ecommerce', 'other', 'security', 'biotech',\n",
       "       'network_hosting', 'finance', 'advertising', 'photo_video',\n",
       "       'travel', 'social', 'transportation', 'hospitality', 'health',\n",
       "       'manufacturing', 'sports', 'nonprofit', 'search', 'fashion',\n",
       "       'messaging', 'hardware', 'public_relations', 'consulting', 'music',\n",
       "       'legal', nan, 'real_estate', 'automotive', 'design', 'pets',\n",
       "       'semiconductor', 'local', 'nanotech'], dtype=object)"
      ]
     },
     "execution_count": 43,
     "metadata": {},
     "output_type": "execute_result"
    }
   ],
   "source": [
    "# Unique values in \"category_code\" column\n",
    "data[\"category_code\"].unique()"
   ]
  },
  {
   "cell_type": "code",
   "execution_count": 44,
   "metadata": {},
   "outputs": [],
   "source": [
    "# Number of unique values in \"category_code\" column\n",
    "#data[\"category_code\"].nunique()"
   ]
  },
  {
   "cell_type": "code",
   "execution_count": 45,
   "metadata": {},
   "outputs": [
    {
     "data": {
      "text/plain": [
       "['software',\n",
       " 'web',\n",
       " 'biotech',\n",
       " 'mobile',\n",
       " 'ecommerce',\n",
       " 'enterprise',\n",
       " 'games_video',\n",
       " 'advertising',\n",
       " 'hardware',\n",
       " 'analytics',\n",
       " 'social',\n",
       " 'cleantech',\n",
       " 'health',\n",
       " 'other',\n",
       " 'education']"
      ]
     },
     "execution_count": 45,
     "metadata": {},
     "output_type": "execute_result"
    }
   ],
   "source": [
    "# Extacting top 15 frequent categories\n",
    "top_15 = list(data[\"category_code\"].value_counts().sort_values(ascending=False).head(15).index)\n",
    "top_15"
   ]
  },
  {
   "cell_type": "code",
   "execution_count": 46,
   "metadata": {},
   "outputs": [
    {
     "data": {
      "text/plain": [
       "15"
      ]
     },
     "execution_count": 46,
     "metadata": {},
     "output_type": "execute_result"
    }
   ],
   "source": [
    "# Keep category same if it is in top 15, change to \"other\" otherwise\n",
    "data.loc[~data[\"category_code\"].isin(top_15), \"category_code\"] = \"other\"\n",
    "\n",
    "# Total unique values left after processing\n",
    "data[\"category_code\"].nunique()"
   ]
  },
  {
   "cell_type": "code",
   "execution_count": 47,
   "metadata": {},
   "outputs": [],
   "source": [
    "# Plotting count of companies working on different categories\n",
    "# plt.figure(figsize=(8, 8))\n",
    "# sns.countplot(y=data['category_code'], label=\"Count\")"
   ]
  },
  {
   "cell_type": "code",
   "execution_count": 48,
   "metadata": {},
   "outputs": [
    {
     "data": {
      "text/plain": [
       "array(['USA', 'AUS', 'FRA', 'GBR', 'SWE', 'DEU', 'JPN', 'FIN', 'RUS',\n",
       "       'MEX', 'ISL', nan, 'CAN', 'CHE', 'ISR', 'TUR', 'NOR', 'CHN', 'ZAF',\n",
       "       'MYS', 'SVK', 'ESP', 'IND', 'ARG', 'TWN', 'KOR', 'DNK', 'IRL',\n",
       "       'CHL', 'LBN', 'EST', 'PHL', 'BEL', 'PRT', 'SGP', 'LUX', 'ROM',\n",
       "       'NLD', 'CYM', 'UKR', 'AUT', 'IDN', 'POL', 'EGY', 'NZL', 'NGA',\n",
       "       'CZE', 'HRV', 'ITA', 'HUN', 'HKG', 'CYP', 'GRC', 'NPL', 'BRA',\n",
       "       'BGR', 'JOR', 'PST', 'REU', 'ARE', 'THA', 'PAK', 'BHS', 'GEO',\n",
       "       'PAN', 'BGD', 'URY', 'GTM', 'LTU', 'COL', 'ANT', 'GHA', 'SYC',\n",
       "       'MAR', 'CRI', 'BLR', 'MLT', 'SVN', 'VEN', 'VNM', 'UGA', 'ALB',\n",
       "       'CSS', 'LVA', 'PER', 'GLP', 'DOM', 'KEN', 'ECU', 'UZB', 'MMR',\n",
       "       'BHR', 'SMR', 'AZE', 'PRK', 'MKD', 'NRU', 'SWZ', 'SEN', 'FST',\n",
       "       'BMU', 'MCO', 'GIB', 'TUN', 'CMR', 'SAU', 'SOM', 'SLV', 'BRB'],\n",
       "      dtype=object)"
      ]
     },
     "execution_count": 48,
     "metadata": {},
     "output_type": "execute_result"
    }
   ],
   "source": [
    "# Unique values in \"country_code\" column\n",
    "data[\"country_code\"].unique()"
   ]
  },
  {
   "cell_type": "code",
   "execution_count": 49,
   "metadata": {},
   "outputs": [
    {
     "data": {
      "text/plain": [
       "108"
      ]
     },
     "execution_count": 49,
     "metadata": {},
     "output_type": "execute_result"
    }
   ],
   "source": [
    "# Number of unique values in \"country_code\" column\n",
    "data[\"country_code\"].nunique()"
   ]
  },
  {
   "cell_type": "code",
   "execution_count": 50,
   "metadata": {},
   "outputs": [
    {
     "data": {
      "text/plain": [
       "['USA', 'GBR', 'CAN', 'FRA', 'ISR', 'DEU', 'IND', 'ESP', 'AUS', 'IRL']"
      ]
     },
     "execution_count": 50,
     "metadata": {},
     "output_type": "execute_result"
    }
   ],
   "source": [
    "# Extacting top 10 frequent categories\n",
    "top_10 = list(data[\"country_code\"].value_counts().sort_values(ascending=False).head(10).index)\n",
    "top_10"
   ]
  },
  {
   "cell_type": "code",
   "execution_count": 51,
   "metadata": {},
   "outputs": [
    {
     "data": {
      "text/plain": [
       "11"
      ]
     },
     "execution_count": 51,
     "metadata": {},
     "output_type": "execute_result"
    }
   ],
   "source": [
    "# Keep category same if it is in top 15, change to \"other\" otherwise\n",
    "data.loc[~data[\"country_code\"].isin(top_10), \"country_code\"] = \"other\"\n",
    "\n",
    "# Total unique values left after processing\n",
    "data[\"country_code\"].nunique()"
   ]
  },
  {
   "cell_type": "code",
   "execution_count": 52,
   "metadata": {},
   "outputs": [],
   "source": [
    "# Plotting count of companies from different regions\n",
    "# plt.figure(figsize=(8, 8))\n",
    "# sns.countplot(y=data['country_code'], label=\"Count\")"
   ]
  },
  {
   "cell_type": "code",
   "execution_count": 53,
   "metadata": {},
   "outputs": [
    {
     "data": {
      "text/html": [
       "<div>\n",
       "<style scoped>\n",
       "    .dataframe tbody tr th:only-of-type {\n",
       "        vertical-align: middle;\n",
       "    }\n",
       "\n",
       "    .dataframe tbody tr th {\n",
       "        vertical-align: top;\n",
       "    }\n",
       "\n",
       "    .dataframe thead th {\n",
       "        text-align: right;\n",
       "    }\n",
       "</style>\n",
       "<table border=\"1\" class=\"dataframe\">\n",
       "  <thead>\n",
       "    <tr style=\"text-align: right;\">\n",
       "      <th></th>\n",
       "      <th>status</th>\n",
       "      <th>founded_at</th>\n",
       "      <th>closed_at</th>\n",
       "      <th>first_investment_at</th>\n",
       "      <th>last_investment_at</th>\n",
       "      <th>investment_rounds</th>\n",
       "      <th>first_funding_at</th>\n",
       "      <th>last_funding_at</th>\n",
       "      <th>funding_rounds</th>\n",
       "      <th>funding_total_usd</th>\n",
       "      <th>...</th>\n",
       "      <th>country_code_GBR</th>\n",
       "      <th>country_code_CAN</th>\n",
       "      <th>country_code_FRA</th>\n",
       "      <th>country_code_ISR</th>\n",
       "      <th>country_code_DEU</th>\n",
       "      <th>country_code_IND</th>\n",
       "      <th>country_code_ESP</th>\n",
       "      <th>country_code_AUS</th>\n",
       "      <th>country_code_IRL</th>\n",
       "      <th>country_code_other</th>\n",
       "    </tr>\n",
       "  </thead>\n",
       "  <tbody>\n",
       "    <tr>\n",
       "      <th>13</th>\n",
       "      <td>acquired</td>\n",
       "      <td>2007</td>\n",
       "      <td>NaN</td>\n",
       "      <td>NaN</td>\n",
       "      <td>NaN</td>\n",
       "      <td>NaN</td>\n",
       "      <td>2008.0</td>\n",
       "      <td>2008.0</td>\n",
       "      <td>1.0</td>\n",
       "      <td>5000000.0</td>\n",
       "      <td>...</td>\n",
       "      <td>0.0</td>\n",
       "      <td>0.0</td>\n",
       "      <td>0.0</td>\n",
       "      <td>0.0</td>\n",
       "      <td>0.0</td>\n",
       "      <td>0.0</td>\n",
       "      <td>0.0</td>\n",
       "      <td>0.0</td>\n",
       "      <td>1.0</td>\n",
       "      <td>0.0</td>\n",
       "    </tr>\n",
       "    <tr>\n",
       "      <th>20</th>\n",
       "      <td>operating</td>\n",
       "      <td>2003</td>\n",
       "      <td>NaN</td>\n",
       "      <td>NaN</td>\n",
       "      <td>NaN</td>\n",
       "      <td>NaN</td>\n",
       "      <td>2011.0</td>\n",
       "      <td>2012.0</td>\n",
       "      <td>3.0</td>\n",
       "      <td>10125293.0</td>\n",
       "      <td>...</td>\n",
       "      <td>0.0</td>\n",
       "      <td>0.0</td>\n",
       "      <td>0.0</td>\n",
       "      <td>0.0</td>\n",
       "      <td>0.0</td>\n",
       "      <td>0.0</td>\n",
       "      <td>0.0</td>\n",
       "      <td>0.0</td>\n",
       "      <td>1.0</td>\n",
       "      <td>0.0</td>\n",
       "    </tr>\n",
       "    <tr>\n",
       "      <th>26</th>\n",
       "      <td>operating</td>\n",
       "      <td>2003</td>\n",
       "      <td>NaN</td>\n",
       "      <td>NaN</td>\n",
       "      <td>NaN</td>\n",
       "      <td>NaN</td>\n",
       "      <td>2003.0</td>\n",
       "      <td>2003.0</td>\n",
       "      <td>1.0</td>\n",
       "      <td>250000.0</td>\n",
       "      <td>...</td>\n",
       "      <td>0.0</td>\n",
       "      <td>0.0</td>\n",
       "      <td>0.0</td>\n",
       "      <td>0.0</td>\n",
       "      <td>0.0</td>\n",
       "      <td>0.0</td>\n",
       "      <td>0.0</td>\n",
       "      <td>0.0</td>\n",
       "      <td>0.0</td>\n",
       "      <td>0.0</td>\n",
       "    </tr>\n",
       "    <tr>\n",
       "      <th>32</th>\n",
       "      <td>operating</td>\n",
       "      <td>2010</td>\n",
       "      <td>NaN</td>\n",
       "      <td>NaN</td>\n",
       "      <td>NaN</td>\n",
       "      <td>NaN</td>\n",
       "      <td>2011.0</td>\n",
       "      <td>2011.0</td>\n",
       "      <td>1.0</td>\n",
       "      <td>100000.0</td>\n",
       "      <td>...</td>\n",
       "      <td>0.0</td>\n",
       "      <td>0.0</td>\n",
       "      <td>0.0</td>\n",
       "      <td>0.0</td>\n",
       "      <td>0.0</td>\n",
       "      <td>0.0</td>\n",
       "      <td>0.0</td>\n",
       "      <td>0.0</td>\n",
       "      <td>1.0</td>\n",
       "      <td>0.0</td>\n",
       "    </tr>\n",
       "    <tr>\n",
       "      <th>36</th>\n",
       "      <td>operating</td>\n",
       "      <td>2006</td>\n",
       "      <td>NaN</td>\n",
       "      <td>NaN</td>\n",
       "      <td>NaN</td>\n",
       "      <td>NaN</td>\n",
       "      <td>2011.0</td>\n",
       "      <td>2012.0</td>\n",
       "      <td>2.0</td>\n",
       "      <td>11300000.0</td>\n",
       "      <td>...</td>\n",
       "      <td>0.0</td>\n",
       "      <td>0.0</td>\n",
       "      <td>0.0</td>\n",
       "      <td>0.0</td>\n",
       "      <td>0.0</td>\n",
       "      <td>0.0</td>\n",
       "      <td>0.0</td>\n",
       "      <td>0.0</td>\n",
       "      <td>1.0</td>\n",
       "      <td>0.0</td>\n",
       "    </tr>\n",
       "  </tbody>\n",
       "</table>\n",
       "<p>5 rows × 42 columns</p>\n",
       "</div>"
      ],
      "text/plain": [
       "       status  founded_at  closed_at  first_investment_at  last_investment_at  \\\n",
       "13   acquired        2007        NaN                  NaN                 NaN   \n",
       "20  operating        2003        NaN                  NaN                 NaN   \n",
       "26  operating        2003        NaN                  NaN                 NaN   \n",
       "32  operating        2010        NaN                  NaN                 NaN   \n",
       "36  operating        2006        NaN                  NaN                 NaN   \n",
       "\n",
       "    investment_rounds  first_funding_at  last_funding_at  funding_rounds  \\\n",
       "13                NaN            2008.0           2008.0             1.0   \n",
       "20                NaN            2011.0           2012.0             3.0   \n",
       "26                NaN            2003.0           2003.0             1.0   \n",
       "32                NaN            2011.0           2011.0             1.0   \n",
       "36                NaN            2011.0           2012.0             2.0   \n",
       "\n",
       "    funding_total_usd  ...  country_code_GBR  country_code_CAN  \\\n",
       "13          5000000.0  ...               0.0               0.0   \n",
       "20         10125293.0  ...               0.0               0.0   \n",
       "26           250000.0  ...               0.0               0.0   \n",
       "32           100000.0  ...               0.0               0.0   \n",
       "36         11300000.0  ...               0.0               0.0   \n",
       "\n",
       "    country_code_FRA  country_code_ISR  country_code_DEU  country_code_IND  \\\n",
       "13               0.0               0.0               0.0               0.0   \n",
       "20               0.0               0.0               0.0               0.0   \n",
       "26               0.0               0.0               0.0               0.0   \n",
       "32               0.0               0.0               0.0               0.0   \n",
       "36               0.0               0.0               0.0               0.0   \n",
       "\n",
       "    country_code_ESP  country_code_AUS  country_code_IRL  country_code_other  \n",
       "13               0.0               0.0               1.0                 0.0  \n",
       "20               0.0               0.0               1.0                 0.0  \n",
       "26               0.0               0.0               0.0                 0.0  \n",
       "32               0.0               0.0               1.0                 0.0  \n",
       "36               0.0               0.0               1.0                 0.0  \n",
       "\n",
       "[5 rows x 42 columns]"
      ]
     },
     "execution_count": 53,
     "metadata": {},
     "output_type": "execute_result"
    }
   ],
   "source": [
    "# Creating one hot encoder\n",
    "one_hot_encoder = OneHotEncoder(handle_unknown=\"ignore\", sparse=False)\n",
    "\n",
    "# Setting target columns\n",
    "target_columns = [\"category_code\", \"country_code\"]\n",
    "\n",
    "# Applying one hot encoding to each target column\n",
    "one_hot_columns = pd.DataFrame(one_hot_encoder.fit_transform(data[target_columns]))\n",
    "\n",
    "# One hot encoding remove index, putting it back\n",
    "one_hot_columns.index = data.index\n",
    "\n",
    "# Updating names of one hot encoded columns\n",
    "array = [\"category_code_\" + column for column in top_15]\n",
    "array.extend([\"country_code_\" + column for column in top_10])\n",
    "array.append(\"country_code_other\")\n",
    "one_hot_columns.columns = array\n",
    "\n",
    "# Removing categorical columns (Will replace with one hot encoded columns)\n",
    "numerical_data = data.drop(target_columns, axis=1)\n",
    "\n",
    "# Adding one hot encoded columns to data\n",
    "data = pd.concat([numerical_data, one_hot_columns], axis=1)\n",
    "data.head()"
   ]
  },
  {
   "cell_type": "code",
   "execution_count": 54,
   "metadata": {},
   "outputs": [
    {
     "data": {
      "text/plain": [
       "(18026, 42)"
      ]
     },
     "execution_count": 54,
     "metadata": {},
     "output_type": "execute_result"
    }
   ],
   "source": [
    "data.shape"
   ]
  },
  {
   "cell_type": "markdown",
   "metadata": {},
   "source": [
    "# Create new variables"
   ]
  },
  {
   "cell_type": "markdown",
   "metadata": {},
   "source": [
    "Create new feature isClosed from closed_at and status.# "
   ]
  },
  {
   "cell_type": "code",
   "execution_count": 55,
   "metadata": {},
   "outputs": [
    {
     "data": {
      "text/html": [
       "<div>\n",
       "<style scoped>\n",
       "    .dataframe tbody tr th:only-of-type {\n",
       "        vertical-align: middle;\n",
       "    }\n",
       "\n",
       "    .dataframe tbody tr th {\n",
       "        vertical-align: top;\n",
       "    }\n",
       "\n",
       "    .dataframe thead th {\n",
       "        text-align: right;\n",
       "    }\n",
       "</style>\n",
       "<table border=\"1\" class=\"dataframe\">\n",
       "  <thead>\n",
       "    <tr style=\"text-align: right;\">\n",
       "      <th></th>\n",
       "      <th>status</th>\n",
       "      <th>founded_at</th>\n",
       "      <th>closed_at</th>\n",
       "      <th>first_investment_at</th>\n",
       "      <th>last_investment_at</th>\n",
       "      <th>investment_rounds</th>\n",
       "      <th>first_funding_at</th>\n",
       "      <th>last_funding_at</th>\n",
       "      <th>funding_rounds</th>\n",
       "      <th>funding_total_usd</th>\n",
       "      <th>...</th>\n",
       "      <th>country_code_CAN</th>\n",
       "      <th>country_code_FRA</th>\n",
       "      <th>country_code_ISR</th>\n",
       "      <th>country_code_DEU</th>\n",
       "      <th>country_code_IND</th>\n",
       "      <th>country_code_ESP</th>\n",
       "      <th>country_code_AUS</th>\n",
       "      <th>country_code_IRL</th>\n",
       "      <th>country_code_other</th>\n",
       "      <th>isClosed</th>\n",
       "    </tr>\n",
       "  </thead>\n",
       "  <tbody>\n",
       "    <tr>\n",
       "      <th>13</th>\n",
       "      <td>acquired</td>\n",
       "      <td>2007</td>\n",
       "      <td>NaN</td>\n",
       "      <td>NaN</td>\n",
       "      <td>NaN</td>\n",
       "      <td>NaN</td>\n",
       "      <td>2008.0</td>\n",
       "      <td>2008.0</td>\n",
       "      <td>1.0</td>\n",
       "      <td>5000000.0</td>\n",
       "      <td>...</td>\n",
       "      <td>0.0</td>\n",
       "      <td>0.0</td>\n",
       "      <td>0.0</td>\n",
       "      <td>0.0</td>\n",
       "      <td>0.0</td>\n",
       "      <td>0.0</td>\n",
       "      <td>0.0</td>\n",
       "      <td>1.0</td>\n",
       "      <td>0.0</td>\n",
       "      <td>0</td>\n",
       "    </tr>\n",
       "    <tr>\n",
       "      <th>20</th>\n",
       "      <td>operating</td>\n",
       "      <td>2003</td>\n",
       "      <td>NaN</td>\n",
       "      <td>NaN</td>\n",
       "      <td>NaN</td>\n",
       "      <td>NaN</td>\n",
       "      <td>2011.0</td>\n",
       "      <td>2012.0</td>\n",
       "      <td>3.0</td>\n",
       "      <td>10125293.0</td>\n",
       "      <td>...</td>\n",
       "      <td>0.0</td>\n",
       "      <td>0.0</td>\n",
       "      <td>0.0</td>\n",
       "      <td>0.0</td>\n",
       "      <td>0.0</td>\n",
       "      <td>0.0</td>\n",
       "      <td>0.0</td>\n",
       "      <td>1.0</td>\n",
       "      <td>0.0</td>\n",
       "      <td>1</td>\n",
       "    </tr>\n",
       "    <tr>\n",
       "      <th>26</th>\n",
       "      <td>operating</td>\n",
       "      <td>2003</td>\n",
       "      <td>NaN</td>\n",
       "      <td>NaN</td>\n",
       "      <td>NaN</td>\n",
       "      <td>NaN</td>\n",
       "      <td>2003.0</td>\n",
       "      <td>2003.0</td>\n",
       "      <td>1.0</td>\n",
       "      <td>250000.0</td>\n",
       "      <td>...</td>\n",
       "      <td>0.0</td>\n",
       "      <td>0.0</td>\n",
       "      <td>0.0</td>\n",
       "      <td>0.0</td>\n",
       "      <td>0.0</td>\n",
       "      <td>0.0</td>\n",
       "      <td>0.0</td>\n",
       "      <td>0.0</td>\n",
       "      <td>0.0</td>\n",
       "      <td>1</td>\n",
       "    </tr>\n",
       "    <tr>\n",
       "      <th>32</th>\n",
       "      <td>operating</td>\n",
       "      <td>2010</td>\n",
       "      <td>NaN</td>\n",
       "      <td>NaN</td>\n",
       "      <td>NaN</td>\n",
       "      <td>NaN</td>\n",
       "      <td>2011.0</td>\n",
       "      <td>2011.0</td>\n",
       "      <td>1.0</td>\n",
       "      <td>100000.0</td>\n",
       "      <td>...</td>\n",
       "      <td>0.0</td>\n",
       "      <td>0.0</td>\n",
       "      <td>0.0</td>\n",
       "      <td>0.0</td>\n",
       "      <td>0.0</td>\n",
       "      <td>0.0</td>\n",
       "      <td>0.0</td>\n",
       "      <td>1.0</td>\n",
       "      <td>0.0</td>\n",
       "      <td>1</td>\n",
       "    </tr>\n",
       "    <tr>\n",
       "      <th>36</th>\n",
       "      <td>operating</td>\n",
       "      <td>2006</td>\n",
       "      <td>NaN</td>\n",
       "      <td>NaN</td>\n",
       "      <td>NaN</td>\n",
       "      <td>NaN</td>\n",
       "      <td>2011.0</td>\n",
       "      <td>2012.0</td>\n",
       "      <td>2.0</td>\n",
       "      <td>11300000.0</td>\n",
       "      <td>...</td>\n",
       "      <td>0.0</td>\n",
       "      <td>0.0</td>\n",
       "      <td>0.0</td>\n",
       "      <td>0.0</td>\n",
       "      <td>0.0</td>\n",
       "      <td>0.0</td>\n",
       "      <td>0.0</td>\n",
       "      <td>1.0</td>\n",
       "      <td>0.0</td>\n",
       "      <td>1</td>\n",
       "    </tr>\n",
       "  </tbody>\n",
       "</table>\n",
       "<p>5 rows × 43 columns</p>\n",
       "</div>"
      ],
      "text/plain": [
       "       status  founded_at  closed_at  first_investment_at  last_investment_at  \\\n",
       "13   acquired        2007        NaN                  NaN                 NaN   \n",
       "20  operating        2003        NaN                  NaN                 NaN   \n",
       "26  operating        2003        NaN                  NaN                 NaN   \n",
       "32  operating        2010        NaN                  NaN                 NaN   \n",
       "36  operating        2006        NaN                  NaN                 NaN   \n",
       "\n",
       "    investment_rounds  first_funding_at  last_funding_at  funding_rounds  \\\n",
       "13                NaN            2008.0           2008.0             1.0   \n",
       "20                NaN            2011.0           2012.0             3.0   \n",
       "26                NaN            2003.0           2003.0             1.0   \n",
       "32                NaN            2011.0           2011.0             1.0   \n",
       "36                NaN            2011.0           2012.0             2.0   \n",
       "\n",
       "    funding_total_usd  ...  country_code_CAN  country_code_FRA  \\\n",
       "13          5000000.0  ...               0.0               0.0   \n",
       "20         10125293.0  ...               0.0               0.0   \n",
       "26           250000.0  ...               0.0               0.0   \n",
       "32           100000.0  ...               0.0               0.0   \n",
       "36         11300000.0  ...               0.0               0.0   \n",
       "\n",
       "    country_code_ISR  country_code_DEU  country_code_IND  country_code_ESP  \\\n",
       "13               0.0               0.0               0.0               0.0   \n",
       "20               0.0               0.0               0.0               0.0   \n",
       "26               0.0               0.0               0.0               0.0   \n",
       "32               0.0               0.0               0.0               0.0   \n",
       "36               0.0               0.0               0.0               0.0   \n",
       "\n",
       "    country_code_AUS  country_code_IRL  country_code_other  isClosed  \n",
       "13               0.0               1.0                 0.0         0  \n",
       "20               0.0               1.0                 0.0         1  \n",
       "26               0.0               0.0                 0.0         1  \n",
       "32               0.0               1.0                 0.0         1  \n",
       "36               0.0               1.0                 0.0         1  \n",
       "\n",
       "[5 rows x 43 columns]"
      ]
     },
     "execution_count": 55,
     "metadata": {},
     "output_type": "execute_result"
    }
   ],
   "source": [
    "# Creating a new column \"isClosed\"\n",
    "data[\"isClosed\"] = \"\"\n",
    "\n",
    "# Putting 1 is status is \"operating\" or \"ipo\"\n",
    "data.loc[(data[\"status\"] == \"operating\") | (data[\"status\"] == \"ipo\"), \"isClosed\"] = 1\n",
    "\n",
    "# Putting 0 if status is \"closed\" or \"acquired\"\n",
    "data.loc[(data[\"status\"] == \"closed\") | (data[\"status\"] == \"acquired\"), \"isClosed\"] = 0\n",
    "data.head()"
   ]
  },
  {
   "cell_type": "markdown",
   "metadata": {},
   "source": [
    "Create active_days# "
   ]
  },
  {
   "cell_type": "code",
   "execution_count": 56,
   "metadata": {},
   "outputs": [],
   "source": [
    "data[\"active_days\"] = \"\""
   ]
  },
  {
   "cell_type": "markdown",
   "metadata": {},
   "source": [
    "Replacing the values in closed_at column# "
   ]
  },
  {
   "cell_type": "code",
   "execution_count": 57,
   "metadata": {},
   "outputs": [
    {
     "data": {
      "text/plain": [
       "array([2021., 2012., 2010., 2013., 2009., 2011., 2008., 2006., 2007.,\n",
       "       2005., 1998., 2004., 1997., 2000.])"
      ]
     },
     "execution_count": 57,
     "metadata": {},
     "output_type": "execute_result"
    }
   ],
   "source": [
    "data.loc[data[\"isClosed\"] == 1, \"closed_at\"] = 2021\n",
    "data.dropna(subset=[\"closed_at\"], inplace=True)\n",
    "data[\"closed_at\"].unique()"
   ]
  },
  {
   "cell_type": "markdown",
   "metadata": {},
   "source": [
    "Subtract founded_date from closed_date, and calculate age in days (After calculating active days, check contradictory issues we didn't check it before.)# "
   ]
  },
  {
   "cell_type": "code",
   "execution_count": 58,
   "metadata": {},
   "outputs": [
    {
     "data": {
      "text/plain": [
       "20        6570.0\n",
       "26        6570.0\n",
       "32        4015.0\n",
       "36        5475.0\n",
       "41        5475.0\n",
       "           ...  \n",
       "196537    3650.0\n",
       "196540    2190.0\n",
       "196547    4745.0\n",
       "196549    5110.0\n",
       "196552    5110.0\n",
       "Name: active_days, Length: 16633, dtype: float64"
      ]
     },
     "execution_count": 58,
     "metadata": {},
     "output_type": "execute_result"
    }
   ],
   "source": [
    "data[\"active_days\"] = (data[\"closed_at\"] - data[\"founded_at\"]) * 365\n",
    "data[\"active_days\"]"
   ]
  },
  {
   "cell_type": "markdown",
   "metadata": {},
   "source": [
    "Then, delete the closed_at column.# "
   ]
  },
  {
   "cell_type": "code",
   "execution_count": 59,
   "metadata": {},
   "outputs": [
    {
     "data": {
      "text/html": [
       "<div>\n",
       "<style scoped>\n",
       "    .dataframe tbody tr th:only-of-type {\n",
       "        vertical-align: middle;\n",
       "    }\n",
       "\n",
       "    .dataframe tbody tr th {\n",
       "        vertical-align: top;\n",
       "    }\n",
       "\n",
       "    .dataframe thead th {\n",
       "        text-align: right;\n",
       "    }\n",
       "</style>\n",
       "<table border=\"1\" class=\"dataframe\">\n",
       "  <thead>\n",
       "    <tr style=\"text-align: right;\">\n",
       "      <th></th>\n",
       "      <th>status</th>\n",
       "      <th>founded_at</th>\n",
       "      <th>first_investment_at</th>\n",
       "      <th>last_investment_at</th>\n",
       "      <th>investment_rounds</th>\n",
       "      <th>first_funding_at</th>\n",
       "      <th>last_funding_at</th>\n",
       "      <th>funding_rounds</th>\n",
       "      <th>funding_total_usd</th>\n",
       "      <th>first_milestone_at</th>\n",
       "      <th>...</th>\n",
       "      <th>country_code_FRA</th>\n",
       "      <th>country_code_ISR</th>\n",
       "      <th>country_code_DEU</th>\n",
       "      <th>country_code_IND</th>\n",
       "      <th>country_code_ESP</th>\n",
       "      <th>country_code_AUS</th>\n",
       "      <th>country_code_IRL</th>\n",
       "      <th>country_code_other</th>\n",
       "      <th>isClosed</th>\n",
       "      <th>active_days</th>\n",
       "    </tr>\n",
       "  </thead>\n",
       "  <tbody>\n",
       "    <tr>\n",
       "      <th>20</th>\n",
       "      <td>operating</td>\n",
       "      <td>2003</td>\n",
       "      <td>NaN</td>\n",
       "      <td>NaN</td>\n",
       "      <td>NaN</td>\n",
       "      <td>2011.0</td>\n",
       "      <td>2012.0</td>\n",
       "      <td>3.0</td>\n",
       "      <td>10125293.0</td>\n",
       "      <td>2010.0</td>\n",
       "      <td>...</td>\n",
       "      <td>0.0</td>\n",
       "      <td>0.0</td>\n",
       "      <td>0.0</td>\n",
       "      <td>0.0</td>\n",
       "      <td>0.0</td>\n",
       "      <td>0.0</td>\n",
       "      <td>1.0</td>\n",
       "      <td>0.0</td>\n",
       "      <td>1</td>\n",
       "      <td>6570.0</td>\n",
       "    </tr>\n",
       "    <tr>\n",
       "      <th>26</th>\n",
       "      <td>operating</td>\n",
       "      <td>2003</td>\n",
       "      <td>NaN</td>\n",
       "      <td>NaN</td>\n",
       "      <td>NaN</td>\n",
       "      <td>2003.0</td>\n",
       "      <td>2003.0</td>\n",
       "      <td>1.0</td>\n",
       "      <td>250000.0</td>\n",
       "      <td>2007.0</td>\n",
       "      <td>...</td>\n",
       "      <td>0.0</td>\n",
       "      <td>0.0</td>\n",
       "      <td>0.0</td>\n",
       "      <td>0.0</td>\n",
       "      <td>0.0</td>\n",
       "      <td>0.0</td>\n",
       "      <td>0.0</td>\n",
       "      <td>0.0</td>\n",
       "      <td>1</td>\n",
       "      <td>6570.0</td>\n",
       "    </tr>\n",
       "    <tr>\n",
       "      <th>32</th>\n",
       "      <td>operating</td>\n",
       "      <td>2010</td>\n",
       "      <td>NaN</td>\n",
       "      <td>NaN</td>\n",
       "      <td>NaN</td>\n",
       "      <td>2011.0</td>\n",
       "      <td>2011.0</td>\n",
       "      <td>1.0</td>\n",
       "      <td>100000.0</td>\n",
       "      <td>2010.0</td>\n",
       "      <td>...</td>\n",
       "      <td>0.0</td>\n",
       "      <td>0.0</td>\n",
       "      <td>0.0</td>\n",
       "      <td>0.0</td>\n",
       "      <td>0.0</td>\n",
       "      <td>0.0</td>\n",
       "      <td>1.0</td>\n",
       "      <td>0.0</td>\n",
       "      <td>1</td>\n",
       "      <td>4015.0</td>\n",
       "    </tr>\n",
       "    <tr>\n",
       "      <th>36</th>\n",
       "      <td>operating</td>\n",
       "      <td>2006</td>\n",
       "      <td>NaN</td>\n",
       "      <td>NaN</td>\n",
       "      <td>NaN</td>\n",
       "      <td>2011.0</td>\n",
       "      <td>2012.0</td>\n",
       "      <td>2.0</td>\n",
       "      <td>11300000.0</td>\n",
       "      <td>NaN</td>\n",
       "      <td>...</td>\n",
       "      <td>0.0</td>\n",
       "      <td>0.0</td>\n",
       "      <td>0.0</td>\n",
       "      <td>0.0</td>\n",
       "      <td>0.0</td>\n",
       "      <td>0.0</td>\n",
       "      <td>1.0</td>\n",
       "      <td>0.0</td>\n",
       "      <td>1</td>\n",
       "      <td>5475.0</td>\n",
       "    </tr>\n",
       "    <tr>\n",
       "      <th>41</th>\n",
       "      <td>operating</td>\n",
       "      <td>2006</td>\n",
       "      <td>NaN</td>\n",
       "      <td>NaN</td>\n",
       "      <td>NaN</td>\n",
       "      <td>2007.0</td>\n",
       "      <td>2007.0</td>\n",
       "      <td>2.0</td>\n",
       "      <td>414840.0</td>\n",
       "      <td>NaN</td>\n",
       "      <td>...</td>\n",
       "      <td>0.0</td>\n",
       "      <td>1.0</td>\n",
       "      <td>0.0</td>\n",
       "      <td>0.0</td>\n",
       "      <td>0.0</td>\n",
       "      <td>0.0</td>\n",
       "      <td>0.0</td>\n",
       "      <td>0.0</td>\n",
       "      <td>1</td>\n",
       "      <td>5475.0</td>\n",
       "    </tr>\n",
       "  </tbody>\n",
       "</table>\n",
       "<p>5 rows × 43 columns</p>\n",
       "</div>"
      ],
      "text/plain": [
       "       status  founded_at  first_investment_at  last_investment_at  \\\n",
       "20  operating        2003                  NaN                 NaN   \n",
       "26  operating        2003                  NaN                 NaN   \n",
       "32  operating        2010                  NaN                 NaN   \n",
       "36  operating        2006                  NaN                 NaN   \n",
       "41  operating        2006                  NaN                 NaN   \n",
       "\n",
       "    investment_rounds  first_funding_at  last_funding_at  funding_rounds  \\\n",
       "20                NaN            2011.0           2012.0             3.0   \n",
       "26                NaN            2003.0           2003.0             1.0   \n",
       "32                NaN            2011.0           2011.0             1.0   \n",
       "36                NaN            2011.0           2012.0             2.0   \n",
       "41                NaN            2007.0           2007.0             2.0   \n",
       "\n",
       "    funding_total_usd  first_milestone_at  ...  country_code_FRA  \\\n",
       "20         10125293.0              2010.0  ...               0.0   \n",
       "26           250000.0              2007.0  ...               0.0   \n",
       "32           100000.0              2010.0  ...               0.0   \n",
       "36         11300000.0                 NaN  ...               0.0   \n",
       "41           414840.0                 NaN  ...               0.0   \n",
       "\n",
       "    country_code_ISR  country_code_DEU  country_code_IND  country_code_ESP  \\\n",
       "20               0.0               0.0               0.0               0.0   \n",
       "26               0.0               0.0               0.0               0.0   \n",
       "32               0.0               0.0               0.0               0.0   \n",
       "36               0.0               0.0               0.0               0.0   \n",
       "41               1.0               0.0               0.0               0.0   \n",
       "\n",
       "    country_code_AUS  country_code_IRL  country_code_other  isClosed  \\\n",
       "20               0.0               1.0                 0.0         1   \n",
       "26               0.0               0.0                 0.0         1   \n",
       "32               0.0               1.0                 0.0         1   \n",
       "36               0.0               1.0                 0.0         1   \n",
       "41               0.0               0.0                 0.0         1   \n",
       "\n",
       "    active_days  \n",
       "20       6570.0  \n",
       "26       6570.0  \n",
       "32       4015.0  \n",
       "36       5475.0  \n",
       "41       5475.0  \n",
       "\n",
       "[5 rows x 43 columns]"
      ]
     },
     "execution_count": 59,
     "metadata": {},
     "output_type": "execute_result"
    }
   ],
   "source": [
    "data.drop(\"closed_at\", axis=1,inplace=True)\n",
    "data.head()"
   ]
  },
  {
   "cell_type": "code",
   "execution_count": 60,
   "metadata": {},
   "outputs": [
    {
     "data": {
      "text/plain": [
       "(16633, 43)"
      ]
     },
     "execution_count": 60,
     "metadata": {},
     "output_type": "execute_result"
    }
   ],
   "source": [
    "data.shape"
   ]
  },
  {
   "cell_type": "markdown",
   "metadata": {},
   "source": [
    "#  work on target variabe now."
   ]
  },
  {
   "cell_type": "code",
   "execution_count": 61,
   "metadata": {},
   "outputs": [],
   "source": [
    "# Plotting target variable\n",
    "# plt.figure(figsize=(8, 8))\n",
    "# sns.countplot(x=data[\"status\"])"
   ]
  },
  {
   "cell_type": "code",
   "execution_count": 62,
   "metadata": {},
   "outputs": [
    {
     "data": {
      "text/plain": [
       "array([1, 0], dtype=int64)"
      ]
     },
     "execution_count": 62,
     "metadata": {},
     "output_type": "execute_result"
    }
   ],
   "source": [
    "data[\"status\"] = data[\"status\"].map({\"operating\": 1, \"ipo\": 1, \"acquired\": 0, \"closed\": 0})\n",
    "data[\"status\"].unique()"
   ]
  },
  {
   "cell_type": "markdown",
   "metadata": {},
   "source": [
    "# Remove the null vaues with the mean value in 'Numerical Data'"
   ]
  },
  {
   "cell_type": "code",
   "execution_count": 63,
   "metadata": {},
   "outputs": [
    {
     "data": {
      "text/html": [
       "<div>\n",
       "<style scoped>\n",
       "    .dataframe tbody tr th:only-of-type {\n",
       "        vertical-align: middle;\n",
       "    }\n",
       "\n",
       "    .dataframe tbody tr th {\n",
       "        vertical-align: top;\n",
       "    }\n",
       "\n",
       "    .dataframe thead th {\n",
       "        text-align: right;\n",
       "    }\n",
       "</style>\n",
       "<table border=\"1\" class=\"dataframe\">\n",
       "  <thead>\n",
       "    <tr style=\"text-align: right;\">\n",
       "      <th></th>\n",
       "      <th>status</th>\n",
       "      <th>founded_at</th>\n",
       "      <th>first_investment_at</th>\n",
       "      <th>last_investment_at</th>\n",
       "      <th>investment_rounds</th>\n",
       "      <th>first_funding_at</th>\n",
       "      <th>last_funding_at</th>\n",
       "      <th>funding_rounds</th>\n",
       "      <th>funding_total_usd</th>\n",
       "      <th>first_milestone_at</th>\n",
       "      <th>...</th>\n",
       "      <th>country_code_FRA</th>\n",
       "      <th>country_code_ISR</th>\n",
       "      <th>country_code_DEU</th>\n",
       "      <th>country_code_IND</th>\n",
       "      <th>country_code_ESP</th>\n",
       "      <th>country_code_AUS</th>\n",
       "      <th>country_code_IRL</th>\n",
       "      <th>country_code_other</th>\n",
       "      <th>isClosed</th>\n",
       "      <th>active_days</th>\n",
       "    </tr>\n",
       "  </thead>\n",
       "  <tbody>\n",
       "    <tr>\n",
       "      <th>0</th>\n",
       "      <td>1.0</td>\n",
       "      <td>2003.0</td>\n",
       "      <td>2009.958763</td>\n",
       "      <td>2011.350515</td>\n",
       "      <td>10.783505</td>\n",
       "      <td>2011.0</td>\n",
       "      <td>2012.0</td>\n",
       "      <td>3.0</td>\n",
       "      <td>10125293.0</td>\n",
       "      <td>2010.000000</td>\n",
       "      <td>...</td>\n",
       "      <td>0.0</td>\n",
       "      <td>0.0</td>\n",
       "      <td>0.0</td>\n",
       "      <td>0.0</td>\n",
       "      <td>0.0</td>\n",
       "      <td>0.0</td>\n",
       "      <td>1.0</td>\n",
       "      <td>0.0</td>\n",
       "      <td>1.0</td>\n",
       "      <td>6570.0</td>\n",
       "    </tr>\n",
       "    <tr>\n",
       "      <th>1</th>\n",
       "      <td>1.0</td>\n",
       "      <td>2003.0</td>\n",
       "      <td>2009.958763</td>\n",
       "      <td>2011.350515</td>\n",
       "      <td>10.783505</td>\n",
       "      <td>2003.0</td>\n",
       "      <td>2003.0</td>\n",
       "      <td>1.0</td>\n",
       "      <td>250000.0</td>\n",
       "      <td>2007.000000</td>\n",
       "      <td>...</td>\n",
       "      <td>0.0</td>\n",
       "      <td>0.0</td>\n",
       "      <td>0.0</td>\n",
       "      <td>0.0</td>\n",
       "      <td>0.0</td>\n",
       "      <td>0.0</td>\n",
       "      <td>0.0</td>\n",
       "      <td>0.0</td>\n",
       "      <td>1.0</td>\n",
       "      <td>6570.0</td>\n",
       "    </tr>\n",
       "    <tr>\n",
       "      <th>2</th>\n",
       "      <td>1.0</td>\n",
       "      <td>2010.0</td>\n",
       "      <td>2009.958763</td>\n",
       "      <td>2011.350515</td>\n",
       "      <td>10.783505</td>\n",
       "      <td>2011.0</td>\n",
       "      <td>2011.0</td>\n",
       "      <td>1.0</td>\n",
       "      <td>100000.0</td>\n",
       "      <td>2010.000000</td>\n",
       "      <td>...</td>\n",
       "      <td>0.0</td>\n",
       "      <td>0.0</td>\n",
       "      <td>0.0</td>\n",
       "      <td>0.0</td>\n",
       "      <td>0.0</td>\n",
       "      <td>0.0</td>\n",
       "      <td>1.0</td>\n",
       "      <td>0.0</td>\n",
       "      <td>1.0</td>\n",
       "      <td>4015.0</td>\n",
       "    </tr>\n",
       "    <tr>\n",
       "      <th>3</th>\n",
       "      <td>1.0</td>\n",
       "      <td>2006.0</td>\n",
       "      <td>2009.958763</td>\n",
       "      <td>2011.350515</td>\n",
       "      <td>10.783505</td>\n",
       "      <td>2011.0</td>\n",
       "      <td>2012.0</td>\n",
       "      <td>2.0</td>\n",
       "      <td>11300000.0</td>\n",
       "      <td>2010.443195</td>\n",
       "      <td>...</td>\n",
       "      <td>0.0</td>\n",
       "      <td>0.0</td>\n",
       "      <td>0.0</td>\n",
       "      <td>0.0</td>\n",
       "      <td>0.0</td>\n",
       "      <td>0.0</td>\n",
       "      <td>1.0</td>\n",
       "      <td>0.0</td>\n",
       "      <td>1.0</td>\n",
       "      <td>5475.0</td>\n",
       "    </tr>\n",
       "    <tr>\n",
       "      <th>4</th>\n",
       "      <td>1.0</td>\n",
       "      <td>2006.0</td>\n",
       "      <td>2009.958763</td>\n",
       "      <td>2011.350515</td>\n",
       "      <td>10.783505</td>\n",
       "      <td>2007.0</td>\n",
       "      <td>2007.0</td>\n",
       "      <td>2.0</td>\n",
       "      <td>414840.0</td>\n",
       "      <td>2010.443195</td>\n",
       "      <td>...</td>\n",
       "      <td>0.0</td>\n",
       "      <td>1.0</td>\n",
       "      <td>0.0</td>\n",
       "      <td>0.0</td>\n",
       "      <td>0.0</td>\n",
       "      <td>0.0</td>\n",
       "      <td>0.0</td>\n",
       "      <td>0.0</td>\n",
       "      <td>1.0</td>\n",
       "      <td>5475.0</td>\n",
       "    </tr>\n",
       "  </tbody>\n",
       "</table>\n",
       "<p>5 rows × 43 columns</p>\n",
       "</div>"
      ],
      "text/plain": [
       "   status  founded_at  first_investment_at  last_investment_at  \\\n",
       "0     1.0      2003.0          2009.958763         2011.350515   \n",
       "1     1.0      2003.0          2009.958763         2011.350515   \n",
       "2     1.0      2010.0          2009.958763         2011.350515   \n",
       "3     1.0      2006.0          2009.958763         2011.350515   \n",
       "4     1.0      2006.0          2009.958763         2011.350515   \n",
       "\n",
       "   investment_rounds  first_funding_at  last_funding_at  funding_rounds  \\\n",
       "0          10.783505            2011.0           2012.0             3.0   \n",
       "1          10.783505            2003.0           2003.0             1.0   \n",
       "2          10.783505            2011.0           2011.0             1.0   \n",
       "3          10.783505            2011.0           2012.0             2.0   \n",
       "4          10.783505            2007.0           2007.0             2.0   \n",
       "\n",
       "   funding_total_usd  first_milestone_at  ...  country_code_FRA  \\\n",
       "0         10125293.0         2010.000000  ...               0.0   \n",
       "1           250000.0         2007.000000  ...               0.0   \n",
       "2           100000.0         2010.000000  ...               0.0   \n",
       "3         11300000.0         2010.443195  ...               0.0   \n",
       "4           414840.0         2010.443195  ...               0.0   \n",
       "\n",
       "   country_code_ISR  country_code_DEU  country_code_IND  country_code_ESP  \\\n",
       "0               0.0               0.0               0.0               0.0   \n",
       "1               0.0               0.0               0.0               0.0   \n",
       "2               0.0               0.0               0.0               0.0   \n",
       "3               0.0               0.0               0.0               0.0   \n",
       "4               1.0               0.0               0.0               0.0   \n",
       "\n",
       "   country_code_AUS  country_code_IRL  country_code_other  isClosed  \\\n",
       "0               0.0               1.0                 0.0       1.0   \n",
       "1               0.0               0.0                 0.0       1.0   \n",
       "2               0.0               1.0                 0.0       1.0   \n",
       "3               0.0               1.0                 0.0       1.0   \n",
       "4               0.0               0.0                 0.0       1.0   \n",
       "\n",
       "   active_days  \n",
       "0       6570.0  \n",
       "1       6570.0  \n",
       "2       4015.0  \n",
       "3       5475.0  \n",
       "4       5475.0  \n",
       "\n",
       "[5 rows x 43 columns]"
      ]
     },
     "execution_count": 63,
     "metadata": {},
     "output_type": "execute_result"
    }
   ],
   "source": [
    "imputer = SimpleImputer()\n",
    "imputed_data = pd.DataFrame(imputer.fit_transform(data))\n",
    "imputed_data.columns = data.columns\n",
    "data = imputed_data\n",
    "data.head()"
   ]
  },
  {
   "cell_type": "code",
   "execution_count": 64,
   "metadata": {},
   "outputs": [
    {
     "data": {
      "text/plain": [
       "0.0"
      ]
     },
     "execution_count": 64,
     "metadata": {},
     "output_type": "execute_result"
    }
   ],
   "source": [
    "get_missing_values_percentage(data)"
   ]
  },
  {
   "cell_type": "code",
   "execution_count": 65,
   "metadata": {},
   "outputs": [
    {
     "data": {
      "text/plain": [
       "<AxesSubplot:>"
      ]
     },
     "execution_count": 65,
     "metadata": {},
     "output_type": "execute_result"
    },
    {
     "data": {
      "image/png": "[encoded data removed]",
      "text/plain": [
       "<Figure size 720x720 with 2 Axes>"
      ]
     },
     "metadata": {
      "needs_background": "light"
     },
     "output_type": "display_data"
    }
   ],
   "source": [
    "#Heatmap of missing values in data\n",
    "#Ref: https://datavizpyr.com/visualizing-missing-data-with-seaborn-heatmap-and-displot/\n",
    "plt.figure(figsize=(10, 10))\n",
    "sns.heatmap(data.isna().transpose(), cbar_kws={'label': 'Missing Data'})"
   ]
  },
  {
   "cell_type": "markdown",
   "metadata": {},
   "source": [
    " # Correlations"
   ]
  },
  {
   "cell_type": "code",
   "execution_count": 66,
   "metadata": {},
   "outputs": [],
   "source": [
    "# plt.figure(figsize=(40, 40))\n",
    "# sns.heatmap(data.corr(), annot=True)\n",
    "# plt.show()"
   ]
  },
  {
   "cell_type": "code",
   "execution_count": 67,
   "metadata": {},
   "outputs": [
    {
     "data": {
      "text/plain": [
       "1"
      ]
     },
     "execution_count": 67,
     "metadata": {},
     "output_type": "execute_result"
    }
   ],
   "source": [
    "def correlation(data,threshold):\n",
    "    coll_corr=set() #set of all the names of correlated columns \n",
    "    corr_matrix=data.corr()\n",
    "    for i in range (len(corr_matrix.columns)):\n",
    "        for j in range(i):\n",
    "            if abs(corr_matrix.iloc[i,j])> threshold:\n",
    "                colname=corr_matrix.columns[i] #getting the name of columns\n",
    "                coll_corr.add(colname)\n",
    "    return coll_corr  \n",
    "\n",
    "corr_feature = correlation(data.iloc[:,:-1],0.90)\n",
    "len(set(corr_feature))"
   ]
  },
  {
   "cell_type": "code",
   "execution_count": 68,
   "metadata": {},
   "outputs": [
    {
     "data": {
      "text/plain": [
       "{'isClosed'}"
      ]
     },
     "execution_count": 68,
     "metadata": {},
     "output_type": "execute_result"
    }
   ],
   "source": [
    "corr_feature"
   ]
  },
  {
   "cell_type": "markdown",
   "metadata": {},
   "source": [
    "# DATA MODELING"
   ]
  },
  {
   "cell_type": "code",
   "execution_count": 69,
   "metadata": {},
   "outputs": [
    {
     "data": {
      "text/html": [
       "<div>\n",
       "<style scoped>\n",
       "    .dataframe tbody tr th:only-of-type {\n",
       "        vertical-align: middle;\n",
       "    }\n",
       "\n",
       "    .dataframe tbody tr th {\n",
       "        vertical-align: top;\n",
       "    }\n",
       "\n",
       "    .dataframe thead th {\n",
       "        text-align: right;\n",
       "    }\n",
       "</style>\n",
       "<table border=\"1\" class=\"dataframe\">\n",
       "  <thead>\n",
       "    <tr style=\"text-align: right;\">\n",
       "      <th></th>\n",
       "      <th>status</th>\n",
       "      <th>founded_at</th>\n",
       "      <th>first_investment_at</th>\n",
       "      <th>last_investment_at</th>\n",
       "      <th>investment_rounds</th>\n",
       "      <th>first_funding_at</th>\n",
       "      <th>last_funding_at</th>\n",
       "      <th>funding_rounds</th>\n",
       "      <th>funding_total_usd</th>\n",
       "      <th>first_milestone_at</th>\n",
       "      <th>...</th>\n",
       "      <th>country_code_FRA</th>\n",
       "      <th>country_code_ISR</th>\n",
       "      <th>country_code_DEU</th>\n",
       "      <th>country_code_IND</th>\n",
       "      <th>country_code_ESP</th>\n",
       "      <th>country_code_AUS</th>\n",
       "      <th>country_code_IRL</th>\n",
       "      <th>country_code_other</th>\n",
       "      <th>isClosed</th>\n",
       "      <th>active_days</th>\n",
       "    </tr>\n",
       "  </thead>\n",
       "  <tbody>\n",
       "    <tr>\n",
       "      <th>0</th>\n",
       "      <td>1.0</td>\n",
       "      <td>2003.0</td>\n",
       "      <td>2009.958763</td>\n",
       "      <td>2011.350515</td>\n",
       "      <td>10.783505</td>\n",
       "      <td>2011.0</td>\n",
       "      <td>2012.0</td>\n",
       "      <td>1.0</td>\n",
       "      <td>0.363768</td>\n",
       "      <td>2010.000000</td>\n",
       "      <td>...</td>\n",
       "      <td>0.0</td>\n",
       "      <td>0.0</td>\n",
       "      <td>0.0</td>\n",
       "      <td>0.0</td>\n",
       "      <td>0.0</td>\n",
       "      <td>0.0</td>\n",
       "      <td>1.0</td>\n",
       "      <td>0.0</td>\n",
       "      <td>1.0</td>\n",
       "      <td>6570.0</td>\n",
       "    </tr>\n",
       "    <tr>\n",
       "      <th>1</th>\n",
       "      <td>1.0</td>\n",
       "      <td>2003.0</td>\n",
       "      <td>2009.958763</td>\n",
       "      <td>2011.350515</td>\n",
       "      <td>10.783505</td>\n",
       "      <td>2003.0</td>\n",
       "      <td>2003.0</td>\n",
       "      <td>0.0</td>\n",
       "      <td>0.008971</td>\n",
       "      <td>2007.000000</td>\n",
       "      <td>...</td>\n",
       "      <td>0.0</td>\n",
       "      <td>0.0</td>\n",
       "      <td>0.0</td>\n",
       "      <td>0.0</td>\n",
       "      <td>0.0</td>\n",
       "      <td>0.0</td>\n",
       "      <td>0.0</td>\n",
       "      <td>0.0</td>\n",
       "      <td>1.0</td>\n",
       "      <td>6570.0</td>\n",
       "    </tr>\n",
       "    <tr>\n",
       "      <th>2</th>\n",
       "      <td>1.0</td>\n",
       "      <td>2010.0</td>\n",
       "      <td>2009.958763</td>\n",
       "      <td>2011.350515</td>\n",
       "      <td>10.783505</td>\n",
       "      <td>2011.0</td>\n",
       "      <td>2011.0</td>\n",
       "      <td>0.0</td>\n",
       "      <td>0.003582</td>\n",
       "      <td>2010.000000</td>\n",
       "      <td>...</td>\n",
       "      <td>0.0</td>\n",
       "      <td>0.0</td>\n",
       "      <td>0.0</td>\n",
       "      <td>0.0</td>\n",
       "      <td>0.0</td>\n",
       "      <td>0.0</td>\n",
       "      <td>1.0</td>\n",
       "      <td>0.0</td>\n",
       "      <td>1.0</td>\n",
       "      <td>4015.0</td>\n",
       "    </tr>\n",
       "    <tr>\n",
       "      <th>3</th>\n",
       "      <td>1.0</td>\n",
       "      <td>2006.0</td>\n",
       "      <td>2009.958763</td>\n",
       "      <td>2011.350515</td>\n",
       "      <td>10.783505</td>\n",
       "      <td>2011.0</td>\n",
       "      <td>2012.0</td>\n",
       "      <td>0.5</td>\n",
       "      <td>0.405972</td>\n",
       "      <td>2010.443195</td>\n",
       "      <td>...</td>\n",
       "      <td>0.0</td>\n",
       "      <td>0.0</td>\n",
       "      <td>0.0</td>\n",
       "      <td>0.0</td>\n",
       "      <td>0.0</td>\n",
       "      <td>0.0</td>\n",
       "      <td>1.0</td>\n",
       "      <td>0.0</td>\n",
       "      <td>1.0</td>\n",
       "      <td>5475.0</td>\n",
       "    </tr>\n",
       "    <tr>\n",
       "      <th>4</th>\n",
       "      <td>1.0</td>\n",
       "      <td>2006.0</td>\n",
       "      <td>2009.958763</td>\n",
       "      <td>2011.350515</td>\n",
       "      <td>10.783505</td>\n",
       "      <td>2007.0</td>\n",
       "      <td>2007.0</td>\n",
       "      <td>0.5</td>\n",
       "      <td>0.014894</td>\n",
       "      <td>2010.443195</td>\n",
       "      <td>...</td>\n",
       "      <td>0.0</td>\n",
       "      <td>1.0</td>\n",
       "      <td>0.0</td>\n",
       "      <td>0.0</td>\n",
       "      <td>0.0</td>\n",
       "      <td>0.0</td>\n",
       "      <td>0.0</td>\n",
       "      <td>0.0</td>\n",
       "      <td>1.0</td>\n",
       "      <td>5475.0</td>\n",
       "    </tr>\n",
       "  </tbody>\n",
       "</table>\n",
       "<p>5 rows × 43 columns</p>\n",
       "</div>"
      ],
      "text/plain": [
       "   status  founded_at  first_investment_at  last_investment_at  \\\n",
       "0     1.0      2003.0          2009.958763         2011.350515   \n",
       "1     1.0      2003.0          2009.958763         2011.350515   \n",
       "2     1.0      2010.0          2009.958763         2011.350515   \n",
       "3     1.0      2006.0          2009.958763         2011.350515   \n",
       "4     1.0      2006.0          2009.958763         2011.350515   \n",
       "\n",
       "   investment_rounds  first_funding_at  last_funding_at  funding_rounds  \\\n",
       "0          10.783505            2011.0           2012.0             1.0   \n",
       "1          10.783505            2003.0           2003.0             0.0   \n",
       "2          10.783505            2011.0           2011.0             0.0   \n",
       "3          10.783505            2011.0           2012.0             0.5   \n",
       "4          10.783505            2007.0           2007.0             0.5   \n",
       "\n",
       "   funding_total_usd  first_milestone_at  ...  country_code_FRA  \\\n",
       "0           0.363768         2010.000000  ...               0.0   \n",
       "1           0.008971         2007.000000  ...               0.0   \n",
       "2           0.003582         2010.000000  ...               0.0   \n",
       "3           0.405972         2010.443195  ...               0.0   \n",
       "4           0.014894         2010.443195  ...               0.0   \n",
       "\n",
       "   country_code_ISR  country_code_DEU  country_code_IND  country_code_ESP  \\\n",
       "0               0.0               0.0               0.0               0.0   \n",
       "1               0.0               0.0               0.0               0.0   \n",
       "2               0.0               0.0               0.0               0.0   \n",
       "3               0.0               0.0               0.0               0.0   \n",
       "4               1.0               0.0               0.0               0.0   \n",
       "\n",
       "   country_code_AUS  country_code_IRL  country_code_other  isClosed  \\\n",
       "0               0.0               1.0                 0.0       1.0   \n",
       "1               0.0               0.0                 0.0       1.0   \n",
       "2               0.0               1.0                 0.0       1.0   \n",
       "3               0.0               1.0                 0.0       1.0   \n",
       "4               0.0               0.0                 0.0       1.0   \n",
       "\n",
       "   active_days  \n",
       "0       6570.0  \n",
       "1       6570.0  \n",
       "2       4015.0  \n",
       "3       5475.0  \n",
       "4       5475.0  \n",
       "\n",
       "[5 rows x 43 columns]"
      ]
     },
     "execution_count": 69,
     "metadata": {},
     "output_type": "execute_result"
    }
   ],
   "source": [
    "from sklearn import preprocessing\n",
    "from sklearn.preprocessing import MinMaxScaler\n",
    "scaler = preprocessing.MinMaxScaler()\n",
    "data[['funding_rounds','funding_total_usd','milestones','relationships']] = scaler.fit_transform(data[['funding_rounds','funding_total_usd','milestones','relationships']])\n",
    "data.head()"
   ]
  },
  {
   "cell_type": "code",
   "execution_count": 85,
   "metadata": {},
   "outputs": [],
   "source": [
    "from sklearn.preprocessing import StandardScaler"
   ]
  },
  {
   "cell_type": "code",
   "execution_count": 86,
   "metadata": {},
   "outputs": [],
   "source": [
    "X=data.drop('status',axis=1)\n",
    "Y=data['status']"
   ]
  },
  {
   "cell_type": "code",
   "execution_count": 88,
   "metadata": {},
   "outputs": [],
   "source": [
    "x = data.drop('status', axis = 1)\n",
    "y = data['status']"
   ]
  },
  {
   "cell_type": "code",
   "execution_count": 91,
   "metadata": {},
   "outputs": [],
   "source": [
    "scaler = StandardScaler()\n",
    "x_scaled = scaler.fit_transform(x)"
   ]
  },
  {
   "cell_type": "code",
   "execution_count": 92,
   "metadata": {},
   "outputs": [],
   "source": [
    "x_train,x_test,y_train,y_test = train_test_split(x_scaled, y, test_size = 0.25, random_state = 9)"
   ]
  },
  {
   "cell_type": "raw",
   "metadata": {},
   "source": [
    "from sklearn.model_selection import train_test_split\n",
    "x_train,x_test,y_train,y_test=train_test_split(X,Y,test_size=0.2)"
   ]
  },
  {
   "cell_type": "code",
   "execution_count": 93,
   "metadata": {},
   "outputs": [],
   "source": [
    "from sklearn import linear_model, metrics\n",
    "from sklearn.metrics import accuracy_score,classification_report,confusion_matrix\n",
    "lr = linear_model.LogisticRegression()"
   ]
  },
  {
   "cell_type": "code",
   "execution_count": 94,
   "metadata": {},
   "outputs": [
    {
     "name": "stdout",
     "output_type": "stream",
     "text": [
      "After OverSampling, the shape of train_X: (12474, 42)\n",
      "After OverSampling, the shape of train_y: (12474,) \n",
      "\n",
      "After OverSampling, counts of label '1': 11555\n",
      "After OverSampling, counts of label '0': 919\n"
     ]
    }
   ],
   "source": [
    "print('After OverSampling, the shape of train_X: {}'.format(x_train.shape))\n",
    "print('After OverSampling, the shape of train_y: {} \\n'.format(y_train.shape))\n",
    "  \n",
    "print(\"After OverSampling, counts of label '1': {}\".format(sum(y_train == 1)))\n",
    "print(\"After OverSampling, counts of label '0': {}\".format(sum(y_train == 0)))"
   ]
  },
  {
   "cell_type": "code",
   "execution_count": 95,
   "metadata": {},
   "outputs": [
    {
     "name": "stdout",
     "output_type": "stream",
     "text": [
      "              precision    recall  f1-score   support\n",
      "\n",
      "         0.0       1.00      1.00      1.00       305\n",
      "         1.0       1.00      1.00      1.00      3854\n",
      "\n",
      "    accuracy                           1.00      4159\n",
      "   macro avg       1.00      1.00      1.00      4159\n",
      "weighted avg       1.00      1.00      1.00      4159\n",
      "\n"
     ]
    }
   ],
   "source": [
    "lr.fit(x_train, y_train)\n",
    "pred = lr.predict(x_test)\n",
    "  \n",
    "# print classification report\n",
    "print(classification_report(y_test, pred))"
   ]
  },
  {
   "cell_type": "code",
   "execution_count": 96,
   "metadata": {},
   "outputs": [
    {
     "data": {
      "text/plain": [
       "1.0"
      ]
     },
     "execution_count": 96,
     "metadata": {},
     "output_type": "execute_result"
    }
   ],
   "source": [
    "accuracy_score(y_test,pred)"
   ]
  },
  {
   "cell_type": "code",
   "execution_count": 97,
   "metadata": {},
   "outputs": [
    {
     "name": "stdout",
     "output_type": "stream",
     "text": [
      "Collecting package metadata (current_repodata.json): ...working... done\n",
      "Solving environment: ...working... done\n",
      "\n",
      "# All requested packages already installed.\n",
      "\n",
      "\n",
      "Note: you may need to restart the kernel to use updated packages.\n"
     ]
    }
   ],
   "source": [
    "conda install -c conda-forge imbalanced-learn"
   ]
  },
  {
   "cell_type": "code",
   "execution_count": 98,
   "metadata": {},
   "outputs": [],
   "source": [
    "\n",
    "from collections import Counter\n",
    "from sklearn.datasets import make_classification\n",
    "from imblearn.over_sampling import SMOTE\n",
    "\n",
    "sm = SMOTE(random_state = 2)\n",
    "x_train, y_train = sm.fit_resample(x_train, y_train.ravel())"
   ]
  },
  {
   "cell_type": "code",
   "execution_count": 99,
   "metadata": {},
   "outputs": [
    {
     "name": "stdout",
     "output_type": "stream",
     "text": [
      "              precision    recall  f1-score   support\n",
      "\n",
      "         0.0       1.00      1.00      1.00       305\n",
      "         1.0       1.00      1.00      1.00      3854\n",
      "\n",
      "    accuracy                           1.00      4159\n",
      "   macro avg       1.00      1.00      1.00      4159\n",
      "weighted avg       1.00      1.00      1.00      4159\n",
      "\n"
     ]
    }
   ],
   "source": [
    "lr.fit(x_train, y_train.ravel())\n",
    "predictions = lr.predict(x_test)\n",
    "\n",
    "\n",
    "# print classification report\n",
    "print(classification_report(y_test, predictions))\n",
    "  "
   ]
  },
  {
   "cell_type": "code",
   "execution_count": 79,
   "metadata": {},
   "outputs": [
    {
     "data": {
      "text/plain": [
       "1.0"
      ]
     },
     "execution_count": 79,
     "metadata": {},
     "output_type": "execute_result"
    }
   ],
   "source": [
    "accuracy_score(y_test,predictions)"
   ]
  },
  {
   "cell_type": "code",
   "execution_count": 80,
   "metadata": {},
   "outputs": [
    {
     "data": {
      "text/plain": [
       "array([[ 254,    0],\n",
       "       [   0, 3073]], dtype=int64)"
      ]
     },
     "execution_count": 80,
     "metadata": {},
     "output_type": "execute_result"
    }
   ],
   "source": [
    "confusion_matrix(y_test,predictions)"
   ]
  },
  {
   "cell_type": "code",
   "execution_count": 81,
   "metadata": {},
   "outputs": [],
   "source": [
    "from sklearn.preprocessing import OneHotEncoder\n",
    "from sklearn.impute import SimpleImputer\n",
    "from sklearn.compose import ColumnTransformer\n",
    "from sklearn.pipeline import make_pipeline"
   ]
  },
  {
   "cell_type": "code",
   "execution_count": 82,
   "metadata": {},
   "outputs": [
    {
     "name": "stdout",
     "output_type": "stream",
     "text": [
      "Requirement already satisfied: xgboost in c:\\users\\msona\\anaconda3\\lib\\site-packages (1.6.1)\n",
      "Requirement already satisfied: numpy in c:\\users\\msona\\anaconda3\\lib\\site-packages (from xgboost) (1.19.2)\n",
      "Requirement already satisfied: scipy in c:\\users\\msona\\anaconda3\\lib\\site-packages (from xgboost) (1.5.2)\n",
      "Note: you may need to restart the kernel to use updated packages.\n"
     ]
    }
   ],
   "source": [
    "pip install xgboost"
   ]
  },
  {
   "cell_type": "code",
   "execution_count": 83,
   "metadata": {},
   "outputs": [],
   "source": [
    "from xgboost import XGBRegressor\n",
    "import pickle"
   ]
  },
  {
   "cell_type": "code",
   "execution_count": 84,
   "metadata": {},
   "outputs": [
    {
     "ename": "NameError",
     "evalue": "name 'X_train' is not defined",
     "output_type": "error",
     "traceback": [
      "\u001b[1;31m---------------------------------------------------------------------------\u001b[0m",
      "\u001b[1;31mNameError\u001b[0m                                 Traceback (most recent call last)",
      "\u001b[1;32m<ipython-input-84-b8ff3c807981>\u001b[0m in \u001b[0;36m<module>\u001b[1;34m\u001b[0m\n\u001b[0;32m      2\u001b[0m \u001b[1;33m\u001b[0m\u001b[0m\n\u001b[0;32m      3\u001b[0m \u001b[0mxgb_reg\u001b[0m \u001b[1;33m=\u001b[0m \u001b[0mxgb\u001b[0m\u001b[1;33m.\u001b[0m\u001b[0mXGBClassifier\u001b[0m\u001b[1;33m(\u001b[0m\u001b[1;33m)\u001b[0m\u001b[1;33m\u001b[0m\u001b[1;33m\u001b[0m\u001b[0m\n\u001b[1;32m----> 4\u001b[1;33m \u001b[0mxgb_reg\u001b[0m\u001b[1;33m.\u001b[0m\u001b[0mfit\u001b[0m\u001b[1;33m(\u001b[0m\u001b[0mX_train\u001b[0m\u001b[1;33m,\u001b[0m \u001b[0my_train\u001b[0m\u001b[1;33m)\u001b[0m\u001b[1;33m\u001b[0m\u001b[1;33m\u001b[0m\u001b[0m\n\u001b[0m",
      "\u001b[1;31mNameError\u001b[0m: name 'X_train' is not defined"
     ]
    }
   ],
   "source": [
    "import xgboost as xgb\n",
    "\n",
    "xgb_reg = xgb.XGBClassifier()\n",
    "xgb_reg.fit(X_train, y_train)"
   ]
  },
  {
   "cell_type": "code",
   "execution_count": null,
   "metadata": {},
   "outputs": [],
   "source": [
    "pipeline_xgb =  make_pipeline(preprocessor, XGBRegressor())\n",
    "pipeline_xgb.fit(X_train, y_train)"
   ]
  },
  {
   "cell_type": "code",
   "execution_count": null,
   "metadata": {},
   "outputs": [],
   "source": []
  }
 ],
 "metadata": {
  "kernelspec": {
   "display_name": "Python 3",
   "language": "python",
   "name": "python3"
  },
  "language_info": {
   "codemirror_mode": {
    "name": "ipython",
    "version": 3
   },
   "file_extension": ".py",
   "mimetype": "text/x-python",
   "name": "python",
   "nbconvert_exporter": "python",
   "pygments_lexer": "ipython3",
   "version": "3.8.5"
  }
 },
 "nbformat": 4,
 "nbformat_minor": 4
}
